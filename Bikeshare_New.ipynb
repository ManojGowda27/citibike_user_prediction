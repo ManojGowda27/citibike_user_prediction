{
 "cells": [
  {
   "cell_type": "code",
   "execution_count": 0,
   "metadata": {
    "colab": {},
    "colab_type": "code",
    "id": "iEsS4gchTb1S"
   },
   "outputs": [],
   "source": [
    "import numpy as np\n",
    "import pandas as pd\n",
    "import seaborn as sns\n",
    "import matplotlib.pyplot as plt\n",
    "from collections import Counter\n",
    "import datetime as dt\n",
    "from sklearn.pipeline import Pipeline\n",
    "from sklearn.ensemble import RandomForestClassifier, BaggingClassifier, AdaBoostClassifier, GradientBoostingClassifier\n",
    "from sklearn.tree import DecisionTreeClassifier\n",
    "from sklearn.model_selection import train_test_split\n",
    "from sklearn.metrics import classification_report, confusion_matrix, accuracy_score\n",
    "import torch\n",
    "import torch.nn as nn\n",
    "sns.set(rc={'figure.figsize':(12,8)})"
   ]
  },
  {
   "cell_type": "code",
   "execution_count": 0,
   "metadata": {
    "colab": {},
    "colab_type": "code",
    "id": "H4uYONJrTb1W"
   },
   "outputs": [],
   "source": [
    "df = pd.read_csv('new_york_citi_bike.csv')"
   ]
  },
  {
   "cell_type": "code",
   "execution_count": 0,
   "metadata": {
    "colab": {},
    "colab_type": "code",
    "id": "uIze9R71Tb1Y",
    "outputId": "a4042a80-5aa5-49fe-a561-6f8d064511c3"
   },
   "outputs": [
    {
     "data": {
      "text/html": [
       "<div>\n",
       "<style scoped>\n",
       "    .dataframe tbody tr th:only-of-type {\n",
       "        vertical-align: middle;\n",
       "    }\n",
       "\n",
       "    .dataframe tbody tr th {\n",
       "        vertical-align: top;\n",
       "    }\n",
       "\n",
       "    .dataframe thead th {\n",
       "        text-align: right;\n",
       "    }\n",
       "</style>\n",
       "<table border=\"1\" class=\"dataframe\">\n",
       "  <thead>\n",
       "    <tr style=\"text-align: right;\">\n",
       "      <th></th>\n",
       "      <th>tripduration</th>\n",
       "      <th>starttime</th>\n",
       "      <th>stoptime</th>\n",
       "      <th>start station id</th>\n",
       "      <th>start station name</th>\n",
       "      <th>start station latitude</th>\n",
       "      <th>start station longitude</th>\n",
       "      <th>end station id</th>\n",
       "      <th>end station name</th>\n",
       "      <th>end station latitude</th>\n",
       "      <th>end station longitude</th>\n",
       "      <th>bikeid</th>\n",
       "      <th>usertype</th>\n",
       "      <th>birth year</th>\n",
       "      <th>gender</th>\n",
       "    </tr>\n",
       "  </thead>\n",
       "  <tbody>\n",
       "    <tr>\n",
       "      <th>0</th>\n",
       "      <td>327</td>\n",
       "      <td>00:02.0</td>\n",
       "      <td>05:29.3</td>\n",
       "      <td>3733</td>\n",
       "      <td>Avenue C &amp; E 18 St</td>\n",
       "      <td>40.730563</td>\n",
       "      <td>-73.973984</td>\n",
       "      <td>504</td>\n",
       "      <td>1 Ave &amp; E 16 St</td>\n",
       "      <td>40.732219</td>\n",
       "      <td>-73.981656</td>\n",
       "      <td>39213</td>\n",
       "      <td>Subscriber</td>\n",
       "      <td>1968</td>\n",
       "      <td>1</td>\n",
       "    </tr>\n",
       "    <tr>\n",
       "      <th>1</th>\n",
       "      <td>1145</td>\n",
       "      <td>00:04.1</td>\n",
       "      <td>19:09.8</td>\n",
       "      <td>3329</td>\n",
       "      <td>Degraw St &amp; Smith St</td>\n",
       "      <td>40.682915</td>\n",
       "      <td>-73.993182</td>\n",
       "      <td>270</td>\n",
       "      <td>Adelphi St &amp; Myrtle Ave</td>\n",
       "      <td>40.693083</td>\n",
       "      <td>-73.971789</td>\n",
       "      <td>21257</td>\n",
       "      <td>Customer</td>\n",
       "      <td>1969</td>\n",
       "      <td>0</td>\n",
       "    </tr>\n",
       "    <tr>\n",
       "      <th>2</th>\n",
       "      <td>1293</td>\n",
       "      <td>00:07.3</td>\n",
       "      <td>21:40.8</td>\n",
       "      <td>3168</td>\n",
       "      <td>Central Park West &amp; W 85 St</td>\n",
       "      <td>40.784727</td>\n",
       "      <td>-73.969617</td>\n",
       "      <td>423</td>\n",
       "      <td>W 54 St &amp; 9 Ave</td>\n",
       "      <td>40.765849</td>\n",
       "      <td>-73.986905</td>\n",
       "      <td>15242</td>\n",
       "      <td>Customer</td>\n",
       "      <td>1969</td>\n",
       "      <td>0</td>\n",
       "    </tr>\n",
       "    <tr>\n",
       "      <th>3</th>\n",
       "      <td>1753</td>\n",
       "      <td>00:08.1</td>\n",
       "      <td>29:21.5</td>\n",
       "      <td>3299</td>\n",
       "      <td>E 98 St &amp; Park Ave</td>\n",
       "      <td>40.788130</td>\n",
       "      <td>-73.952060</td>\n",
       "      <td>3160</td>\n",
       "      <td>Central Park West &amp; W 76 St</td>\n",
       "      <td>40.778968</td>\n",
       "      <td>-73.973747</td>\n",
       "      <td>38760</td>\n",
       "      <td>Subscriber</td>\n",
       "      <td>1990</td>\n",
       "      <td>1</td>\n",
       "    </tr>\n",
       "    <tr>\n",
       "      <th>4</th>\n",
       "      <td>613</td>\n",
       "      <td>00:12.9</td>\n",
       "      <td>10:26.2</td>\n",
       "      <td>486</td>\n",
       "      <td>Broadway &amp; W 29 St</td>\n",
       "      <td>40.746201</td>\n",
       "      <td>-73.988557</td>\n",
       "      <td>478</td>\n",
       "      <td>11 Ave &amp; W 41 St</td>\n",
       "      <td>40.760301</td>\n",
       "      <td>-73.998842</td>\n",
       "      <td>32094</td>\n",
       "      <td>Subscriber</td>\n",
       "      <td>1992</td>\n",
       "      <td>1</td>\n",
       "    </tr>\n",
       "  </tbody>\n",
       "</table>\n",
       "</div>"
      ],
      "text/plain": [
       "   tripduration starttime stoptime  start station id  \\\n",
       "0           327   00:02.0  05:29.3              3733   \n",
       "1          1145   00:04.1  19:09.8              3329   \n",
       "2          1293   00:07.3  21:40.8              3168   \n",
       "3          1753   00:08.1  29:21.5              3299   \n",
       "4           613   00:12.9  10:26.2               486   \n",
       "\n",
       "            start station name  start station latitude  \\\n",
       "0           Avenue C & E 18 St               40.730563   \n",
       "1         Degraw St & Smith St               40.682915   \n",
       "2  Central Park West & W 85 St               40.784727   \n",
       "3           E 98 St & Park Ave               40.788130   \n",
       "4           Broadway & W 29 St               40.746201   \n",
       "\n",
       "   start station longitude  end station id             end station name  \\\n",
       "0               -73.973984             504              1 Ave & E 16 St   \n",
       "1               -73.993182             270      Adelphi St & Myrtle Ave   \n",
       "2               -73.969617             423              W 54 St & 9 Ave   \n",
       "3               -73.952060            3160  Central Park West & W 76 St   \n",
       "4               -73.988557             478             11 Ave & W 41 St   \n",
       "\n",
       "   end station latitude  end station longitude  bikeid    usertype  \\\n",
       "0             40.732219             -73.981656   39213  Subscriber   \n",
       "1             40.693083             -73.971789   21257    Customer   \n",
       "2             40.765849             -73.986905   15242    Customer   \n",
       "3             40.778968             -73.973747   38760  Subscriber   \n",
       "4             40.760301             -73.998842   32094  Subscriber   \n",
       "\n",
       "   birth year  gender  \n",
       "0        1968       1  \n",
       "1        1969       0  \n",
       "2        1969       0  \n",
       "3        1990       1  \n",
       "4        1992       1  "
      ]
     },
     "execution_count": 6,
     "metadata": {
      "tags": []
     },
     "output_type": "execute_result"
    }
   ],
   "source": [
    "df.head()"
   ]
  },
  {
   "cell_type": "code",
   "execution_count": 0,
   "metadata": {
    "colab": {},
    "colab_type": "code",
    "id": "UD7iWx0qTb1b",
    "outputId": "83d6a40c-1fc5-40dd-d53b-34d86a30bab3"
   },
   "outputs": [
    {
     "name": "stdout",
     "output_type": "stream",
     "text": [
      "<class 'pandas.core.frame.DataFrame'>\n",
      "RangeIndex: 1048575 entries, 0 to 1048574\n",
      "Data columns (total 15 columns):\n",
      "tripduration               1048575 non-null int64\n",
      "starttime                  1048575 non-null object\n",
      "stoptime                   1048575 non-null object\n",
      "start station id           1048575 non-null int64\n",
      "start station name         1048575 non-null object\n",
      "start station latitude     1048575 non-null float64\n",
      "start station longitude    1048575 non-null float64\n",
      "end station id             1048575 non-null int64\n",
      "end station name           1048575 non-null object\n",
      "end station latitude       1048575 non-null float64\n",
      "end station longitude      1048575 non-null float64\n",
      "bikeid                     1048575 non-null int64\n",
      "usertype                   1048575 non-null object\n",
      "birth year                 1048575 non-null int64\n",
      "gender                     1048575 non-null int64\n",
      "dtypes: float64(4), int64(6), object(5)\n",
      "memory usage: 120.0+ MB\n"
     ]
    }
   ],
   "source": [
    "df.info()"
   ]
  },
  {
   "cell_type": "code",
   "execution_count": 0,
   "metadata": {
    "colab": {},
    "colab_type": "code",
    "id": "wzBg5mRKTb1e",
    "outputId": "6ff4fd3c-81ca-448b-c613-c207ff3c45dd"
   },
   "outputs": [
    {
     "data": {
      "text/html": [
       "<div>\n",
       "<style scoped>\n",
       "    .dataframe tbody tr th:only-of-type {\n",
       "        vertical-align: middle;\n",
       "    }\n",
       "\n",
       "    .dataframe tbody tr th {\n",
       "        vertical-align: top;\n",
       "    }\n",
       "\n",
       "    .dataframe thead th {\n",
       "        text-align: right;\n",
       "    }\n",
       "</style>\n",
       "<table border=\"1\" class=\"dataframe\">\n",
       "  <thead>\n",
       "    <tr style=\"text-align: right;\">\n",
       "      <th></th>\n",
       "      <th>tripduration</th>\n",
       "      <th>start station id</th>\n",
       "      <th>start station latitude</th>\n",
       "      <th>start station longitude</th>\n",
       "      <th>end station id</th>\n",
       "      <th>end station latitude</th>\n",
       "      <th>end station longitude</th>\n",
       "      <th>bikeid</th>\n",
       "      <th>birth year</th>\n",
       "      <th>gender</th>\n",
       "    </tr>\n",
       "  </thead>\n",
       "  <tbody>\n",
       "    <tr>\n",
       "      <th>count</th>\n",
       "      <td>1.048575e+06</td>\n",
       "      <td>1.048575e+06</td>\n",
       "      <td>1.048575e+06</td>\n",
       "      <td>1.048575e+06</td>\n",
       "      <td>1.048575e+06</td>\n",
       "      <td>1.048575e+06</td>\n",
       "      <td>1.048575e+06</td>\n",
       "      <td>1.048575e+06</td>\n",
       "      <td>1.048575e+06</td>\n",
       "      <td>1.048575e+06</td>\n",
       "    </tr>\n",
       "    <tr>\n",
       "      <th>mean</th>\n",
       "      <td>1.008363e+03</td>\n",
       "      <td>1.654709e+03</td>\n",
       "      <td>4.073735e+01</td>\n",
       "      <td>-7.398213e+01</td>\n",
       "      <td>1.648128e+03</td>\n",
       "      <td>4.073698e+01</td>\n",
       "      <td>-7.398234e+01</td>\n",
       "      <td>2.961550e+04</td>\n",
       "      <td>1.980670e+03</td>\n",
       "      <td>1.167502e+00</td>\n",
       "    </tr>\n",
       "    <tr>\n",
       "      <th>std</th>\n",
       "      <td>1.107315e+04</td>\n",
       "      <td>1.481409e+03</td>\n",
       "      <td>3.024812e-02</td>\n",
       "      <td>2.016519e-02</td>\n",
       "      <td>1.481127e+03</td>\n",
       "      <td>3.014928e-02</td>\n",
       "      <td>2.023096e-02</td>\n",
       "      <td>7.699267e+03</td>\n",
       "      <td>1.210761e+01</td>\n",
       "      <td>5.571929e-01</td>\n",
       "    </tr>\n",
       "    <tr>\n",
       "      <th>min</th>\n",
       "      <td>6.100000e+01</td>\n",
       "      <td>7.200000e+01</td>\n",
       "      <td>4.065540e+01</td>\n",
       "      <td>-7.402535e+01</td>\n",
       "      <td>7.200000e+01</td>\n",
       "      <td>4.065540e+01</td>\n",
       "      <td>-7.404282e+01</td>\n",
       "      <td>1.452900e+04</td>\n",
       "      <td>1.885000e+03</td>\n",
       "      <td>0.000000e+00</td>\n",
       "    </tr>\n",
       "    <tr>\n",
       "      <th>25%</th>\n",
       "      <td>3.860000e+02</td>\n",
       "      <td>3.770000e+02</td>\n",
       "      <td>4.071755e+01</td>\n",
       "      <td>-7.399596e+01</td>\n",
       "      <td>3.760000e+02</td>\n",
       "      <td>4.071749e+01</td>\n",
       "      <td>-7.399662e+01</td>\n",
       "      <td>2.508500e+04</td>\n",
       "      <td>1.970000e+03</td>\n",
       "      <td>1.000000e+00</td>\n",
       "    </tr>\n",
       "    <tr>\n",
       "      <th>50%</th>\n",
       "      <td>6.570000e+02</td>\n",
       "      <td>5.080000e+02</td>\n",
       "      <td>4.073705e+01</td>\n",
       "      <td>-7.398584e+01</td>\n",
       "      <td>5.070000e+02</td>\n",
       "      <td>4.073653e+01</td>\n",
       "      <td>-7.398627e+01</td>\n",
       "      <td>3.078300e+04</td>\n",
       "      <td>1.983000e+03</td>\n",
       "      <td>1.000000e+00</td>\n",
       "    </tr>\n",
       "    <tr>\n",
       "      <th>75%</th>\n",
       "      <td>1.139000e+03</td>\n",
       "      <td>3.295000e+03</td>\n",
       "      <td>4.075725e+01</td>\n",
       "      <td>-7.397121e+01</td>\n",
       "      <td>3.295000e+03</td>\n",
       "      <td>4.075680e+01</td>\n",
       "      <td>-7.397121e+01</td>\n",
       "      <td>3.526100e+04</td>\n",
       "      <td>1.990000e+03</td>\n",
       "      <td>2.000000e+00</td>\n",
       "    </tr>\n",
       "    <tr>\n",
       "      <th>max</th>\n",
       "      <td>2.904620e+06</td>\n",
       "      <td>3.811000e+03</td>\n",
       "      <td>4.081439e+01</td>\n",
       "      <td>-7.390774e+01</td>\n",
       "      <td>3.811000e+03</td>\n",
       "      <td>4.081439e+01</td>\n",
       "      <td>-7.390774e+01</td>\n",
       "      <td>4.097200e+04</td>\n",
       "      <td>2.003000e+03</td>\n",
       "      <td>2.000000e+00</td>\n",
       "    </tr>\n",
       "  </tbody>\n",
       "</table>\n",
       "</div>"
      ],
      "text/plain": [
       "       tripduration  start station id  start station latitude  \\\n",
       "count  1.048575e+06      1.048575e+06            1.048575e+06   \n",
       "mean   1.008363e+03      1.654709e+03            4.073735e+01   \n",
       "std    1.107315e+04      1.481409e+03            3.024812e-02   \n",
       "min    6.100000e+01      7.200000e+01            4.065540e+01   \n",
       "25%    3.860000e+02      3.770000e+02            4.071755e+01   \n",
       "50%    6.570000e+02      5.080000e+02            4.073705e+01   \n",
       "75%    1.139000e+03      3.295000e+03            4.075725e+01   \n",
       "max    2.904620e+06      3.811000e+03            4.081439e+01   \n",
       "\n",
       "       start station longitude  end station id  end station latitude  \\\n",
       "count             1.048575e+06    1.048575e+06          1.048575e+06   \n",
       "mean             -7.398213e+01    1.648128e+03          4.073698e+01   \n",
       "std               2.016519e-02    1.481127e+03          3.014928e-02   \n",
       "min              -7.402535e+01    7.200000e+01          4.065540e+01   \n",
       "25%              -7.399596e+01    3.760000e+02          4.071749e+01   \n",
       "50%              -7.398584e+01    5.070000e+02          4.073653e+01   \n",
       "75%              -7.397121e+01    3.295000e+03          4.075680e+01   \n",
       "max              -7.390774e+01    3.811000e+03          4.081439e+01   \n",
       "\n",
       "       end station longitude        bikeid    birth year        gender  \n",
       "count           1.048575e+06  1.048575e+06  1.048575e+06  1.048575e+06  \n",
       "mean           -7.398234e+01  2.961550e+04  1.980670e+03  1.167502e+00  \n",
       "std             2.023096e-02  7.699267e+03  1.210761e+01  5.571929e-01  \n",
       "min            -7.404282e+01  1.452900e+04  1.885000e+03  0.000000e+00  \n",
       "25%            -7.399662e+01  2.508500e+04  1.970000e+03  1.000000e+00  \n",
       "50%            -7.398627e+01  3.078300e+04  1.983000e+03  1.000000e+00  \n",
       "75%            -7.397121e+01  3.526100e+04  1.990000e+03  2.000000e+00  \n",
       "max            -7.390774e+01  4.097200e+04  2.003000e+03  2.000000e+00  "
      ]
     },
     "execution_count": 8,
     "metadata": {
      "tags": []
     },
     "output_type": "execute_result"
    }
   ],
   "source": [
    "df.describe()"
   ]
  },
  {
   "cell_type": "code",
   "execution_count": 0,
   "metadata": {
    "colab": {},
    "colab_type": "code",
    "id": "XKkMV4geTb1g",
    "outputId": "11eeb8c4-4335-4a6f-f82b-a1114f0b3949"
   },
   "outputs": [
    {
     "data": {
      "text/plain": [
       "791"
      ]
     },
     "execution_count": 9,
     "metadata": {
      "tags": []
     },
     "output_type": "execute_result"
    }
   ],
   "source": [
    "df['start station name'].nunique()"
   ]
  },
  {
   "cell_type": "markdown",
   "metadata": {
    "colab_type": "text",
    "id": "tGn6nYjETb1j"
   },
   "source": [
    "## Data Cleaning"
   ]
  },
  {
   "cell_type": "code",
   "execution_count": 0,
   "metadata": {
    "colab": {},
    "colab_type": "code",
    "id": "O7nagvudTb1k",
    "outputId": "37d49ca5-097e-4025-a112-ccc1e03cfecd"
   },
   "outputs": [
    {
     "data": {
      "text/plain": [
       "(1048575, 15)"
      ]
     },
     "execution_count": 10,
     "metadata": {
      "tags": []
     },
     "output_type": "execute_result"
    }
   ],
   "source": [
    "df.shape"
   ]
  },
  {
   "cell_type": "code",
   "execution_count": 0,
   "metadata": {
    "colab": {},
    "colab_type": "code",
    "id": "DkKSo3BPTb1n",
    "outputId": "8599bfe2-9387-4e87-94d6-accfef4d99bd"
   },
   "outputs": [
    {
     "data": {
      "text/plain": [
       "<matplotlib.axes._subplots.AxesSubplot at 0x7ffa11dabda0>"
      ]
     },
     "execution_count": 11,
     "metadata": {
      "tags": []
     },
     "output_type": "execute_result"
    },
    {
     "data": {
      "image/png": "[encoded data removed]",
      "text/plain": [
       "<Figure size 1152x720 with 2 Axes>"
      ]
     },
     "metadata": {
      "needs_background": "light",
      "tags": []
     },
     "output_type": "display_data"
    }
   ],
   "source": [
    "feat_corr = df.corr()\n",
    "\n",
    "plt.figure( figsize = (16,10))\n",
    "sns.heatmap(feat_corr, cmap = 'coolwarm',annot = True)"
   ]
  },
  {
   "cell_type": "code",
   "execution_count": 0,
   "metadata": {
    "colab": {},
    "colab_type": "code",
    "id": "4_8m3alqTb1p",
    "outputId": "3e5a2a81-58e4-43fb-dbe5-d0129388fb2a"
   },
   "outputs": [
    {
     "data": {
      "text/plain": [
       "tripduration               0\n",
       "starttime                  0\n",
       "stoptime                   0\n",
       "start station id           0\n",
       "start station name         0\n",
       "start station latitude     0\n",
       "start station longitude    0\n",
       "end station id             0\n",
       "end station name           0\n",
       "end station latitude       0\n",
       "end station longitude      0\n",
       "bikeid                     0\n",
       "usertype                   0\n",
       "birth year                 0\n",
       "gender                     0\n",
       "dtype: int64"
      ]
     },
     "execution_count": 12,
     "metadata": {
      "tags": []
     },
     "output_type": "execute_result"
    }
   ],
   "source": [
    "df.isnull().sum()"
   ]
  },
  {
   "cell_type": "markdown",
   "metadata": {
    "colab_type": "text",
    "id": "GseEIhQbTb1r"
   },
   "source": [
    "<font color = 'green' size = '3'><b> Here, we have checked the number of missing values in the dataset. It seems that there are no missing values associated with this dataset."
   ]
  },
  {
   "cell_type": "code",
   "execution_count": 0,
   "metadata": {
    "colab": {},
    "colab_type": "code",
    "id": "X7AcibRqTb1r",
    "outputId": "18b34ecd-ab0a-464e-8c39-81d640511062"
   },
   "outputs": [
    {
     "name": "stdout",
     "output_type": "stream",
     "text": [
      "Duplicate Rows:  0\n"
     ]
    }
   ],
   "source": [
    "duplicate_df = df[df.duplicated()]\n",
    "print('Duplicate Rows: ', duplicate_df.shape[0])"
   ]
  },
  {
   "cell_type": "code",
   "execution_count": 0,
   "metadata": {
    "colab": {},
    "colab_type": "code",
    "id": "1lYi89i_Tb1u"
   },
   "outputs": [],
   "source": [
    "df['starttime'] = df['starttime'].str.replace('.',':')\n",
    "df['stoptime'] = df['stoptime'].str.replace('.',':')"
   ]
  },
  {
   "cell_type": "markdown",
   "metadata": {
    "colab_type": "text",
    "id": "8aE0xeN3Tb1w"
   },
   "source": [
    "<font color = 'green' size = '3'><b> Since the starttime and stoptime features where not in proper datetime format, we modified the values to convert it to the datetime format."
   ]
  },
  {
   "cell_type": "code",
   "execution_count": 0,
   "metadata": {
    "colab": {},
    "colab_type": "code",
    "id": "iQYreCLITb1x",
    "outputId": "44cbe215-2d6f-4fbe-dd00-e90bd0e63ab5"
   },
   "outputs": [
    {
     "data": {
      "text/html": [
       "<div>\n",
       "<style scoped>\n",
       "    .dataframe tbody tr th:only-of-type {\n",
       "        vertical-align: middle;\n",
       "    }\n",
       "\n",
       "    .dataframe tbody tr th {\n",
       "        vertical-align: top;\n",
       "    }\n",
       "\n",
       "    .dataframe thead th {\n",
       "        text-align: right;\n",
       "    }\n",
       "</style>\n",
       "<table border=\"1\" class=\"dataframe\">\n",
       "  <thead>\n",
       "    <tr style=\"text-align: right;\">\n",
       "      <th></th>\n",
       "      <th>tripduration</th>\n",
       "      <th>starttime</th>\n",
       "      <th>stoptime</th>\n",
       "      <th>start station id</th>\n",
       "      <th>start station name</th>\n",
       "      <th>start station latitude</th>\n",
       "      <th>start station longitude</th>\n",
       "      <th>end station id</th>\n",
       "      <th>end station name</th>\n",
       "      <th>end station latitude</th>\n",
       "      <th>end station longitude</th>\n",
       "      <th>bikeid</th>\n",
       "      <th>usertype</th>\n",
       "      <th>birth year</th>\n",
       "      <th>gender</th>\n",
       "    </tr>\n",
       "  </thead>\n",
       "  <tbody>\n",
       "    <tr>\n",
       "      <th>0</th>\n",
       "      <td>327</td>\n",
       "      <td>00:02:0</td>\n",
       "      <td>05:29:3</td>\n",
       "      <td>3733</td>\n",
       "      <td>Avenue C &amp; E 18 St</td>\n",
       "      <td>40.730563</td>\n",
       "      <td>-73.973984</td>\n",
       "      <td>504</td>\n",
       "      <td>1 Ave &amp; E 16 St</td>\n",
       "      <td>40.732219</td>\n",
       "      <td>-73.981656</td>\n",
       "      <td>39213</td>\n",
       "      <td>Subscriber</td>\n",
       "      <td>1968</td>\n",
       "      <td>1</td>\n",
       "    </tr>\n",
       "    <tr>\n",
       "      <th>1</th>\n",
       "      <td>1145</td>\n",
       "      <td>00:04:1</td>\n",
       "      <td>19:09:8</td>\n",
       "      <td>3329</td>\n",
       "      <td>Degraw St &amp; Smith St</td>\n",
       "      <td>40.682915</td>\n",
       "      <td>-73.993182</td>\n",
       "      <td>270</td>\n",
       "      <td>Adelphi St &amp; Myrtle Ave</td>\n",
       "      <td>40.693083</td>\n",
       "      <td>-73.971789</td>\n",
       "      <td>21257</td>\n",
       "      <td>Customer</td>\n",
       "      <td>1969</td>\n",
       "      <td>0</td>\n",
       "    </tr>\n",
       "    <tr>\n",
       "      <th>2</th>\n",
       "      <td>1293</td>\n",
       "      <td>00:07:3</td>\n",
       "      <td>21:40:8</td>\n",
       "      <td>3168</td>\n",
       "      <td>Central Park West &amp; W 85 St</td>\n",
       "      <td>40.784727</td>\n",
       "      <td>-73.969617</td>\n",
       "      <td>423</td>\n",
       "      <td>W 54 St &amp; 9 Ave</td>\n",
       "      <td>40.765849</td>\n",
       "      <td>-73.986905</td>\n",
       "      <td>15242</td>\n",
       "      <td>Customer</td>\n",
       "      <td>1969</td>\n",
       "      <td>0</td>\n",
       "    </tr>\n",
       "    <tr>\n",
       "      <th>3</th>\n",
       "      <td>1753</td>\n",
       "      <td>00:08:1</td>\n",
       "      <td>29:21:5</td>\n",
       "      <td>3299</td>\n",
       "      <td>E 98 St &amp; Park Ave</td>\n",
       "      <td>40.788130</td>\n",
       "      <td>-73.952060</td>\n",
       "      <td>3160</td>\n",
       "      <td>Central Park West &amp; W 76 St</td>\n",
       "      <td>40.778968</td>\n",
       "      <td>-73.973747</td>\n",
       "      <td>38760</td>\n",
       "      <td>Subscriber</td>\n",
       "      <td>1990</td>\n",
       "      <td>1</td>\n",
       "    </tr>\n",
       "    <tr>\n",
       "      <th>4</th>\n",
       "      <td>613</td>\n",
       "      <td>00:12:9</td>\n",
       "      <td>10:26:2</td>\n",
       "      <td>486</td>\n",
       "      <td>Broadway &amp; W 29 St</td>\n",
       "      <td>40.746201</td>\n",
       "      <td>-73.988557</td>\n",
       "      <td>478</td>\n",
       "      <td>11 Ave &amp; W 41 St</td>\n",
       "      <td>40.760301</td>\n",
       "      <td>-73.998842</td>\n",
       "      <td>32094</td>\n",
       "      <td>Subscriber</td>\n",
       "      <td>1992</td>\n",
       "      <td>1</td>\n",
       "    </tr>\n",
       "  </tbody>\n",
       "</table>\n",
       "</div>"
      ],
      "text/plain": [
       "   tripduration starttime stoptime  start station id  \\\n",
       "0           327   00:02:0  05:29:3              3733   \n",
       "1          1145   00:04:1  19:09:8              3329   \n",
       "2          1293   00:07:3  21:40:8              3168   \n",
       "3          1753   00:08:1  29:21:5              3299   \n",
       "4           613   00:12:9  10:26:2               486   \n",
       "\n",
       "            start station name  start station latitude  \\\n",
       "0           Avenue C & E 18 St               40.730563   \n",
       "1         Degraw St & Smith St               40.682915   \n",
       "2  Central Park West & W 85 St               40.784727   \n",
       "3           E 98 St & Park Ave               40.788130   \n",
       "4           Broadway & W 29 St               40.746201   \n",
       "\n",
       "   start station longitude  end station id             end station name  \\\n",
       "0               -73.973984             504              1 Ave & E 16 St   \n",
       "1               -73.993182             270      Adelphi St & Myrtle Ave   \n",
       "2               -73.969617             423              W 54 St & 9 Ave   \n",
       "3               -73.952060            3160  Central Park West & W 76 St   \n",
       "4               -73.988557             478             11 Ave & W 41 St   \n",
       "\n",
       "   end station latitude  end station longitude  bikeid    usertype  \\\n",
       "0             40.732219             -73.981656   39213  Subscriber   \n",
       "1             40.693083             -73.971789   21257    Customer   \n",
       "2             40.765849             -73.986905   15242    Customer   \n",
       "3             40.778968             -73.973747   38760  Subscriber   \n",
       "4             40.760301             -73.998842   32094  Subscriber   \n",
       "\n",
       "   birth year  gender  \n",
       "0        1968       1  \n",
       "1        1969       0  \n",
       "2        1969       0  \n",
       "3        1990       1  \n",
       "4        1992       1  "
      ]
     },
     "execution_count": 15,
     "metadata": {
      "tags": []
     },
     "output_type": "execute_result"
    }
   ],
   "source": [
    "df.head()"
   ]
  },
  {
   "cell_type": "code",
   "execution_count": 0,
   "metadata": {
    "colab": {},
    "colab_type": "code",
    "id": "2oaajVv-Tb1z"
   },
   "outputs": [],
   "source": [
    "df['starttime'] = pd.to_timedelta(df['starttime'])\n",
    "df['stoptime'] = pd.to_timedelta(df['stoptime'])"
   ]
  },
  {
   "cell_type": "code",
   "execution_count": 0,
   "metadata": {
    "colab": {},
    "colab_type": "code",
    "id": "HKTYMvSLTb12"
   },
   "outputs": [],
   "source": [
    "df['stoptime'] = pd.to_timedelta(df['stoptime'])-pd.to_timedelta(df['stoptime'].dt.days, unit = 'd')"
   ]
  },
  {
   "cell_type": "markdown",
   "metadata": {
    "colab_type": "text",
    "id": "4cQk-xk7Tb14"
   },
   "source": [
    "<font color = 'green' size = '3'><b>Using pandas's inbuilt function to_timedelta, we are converting the starttime and stoptime features into datetime format."
   ]
  },
  {
   "cell_type": "code",
   "execution_count": 0,
   "metadata": {
    "colab": {},
    "colab_type": "code",
    "id": "vhz4voVJTb15"
   },
   "outputs": [],
   "source": [
    "#df['starttime'] = pd.to_datetime(df['starttime'])\n",
    "#df['stoptime'] = pd.to_datetime(df['stoptime'])\n",
    "df['start station name'] = df['start station name'].astype('category')\n",
    "df['end station name'] = df['end station name'].astype('category')\n",
    "df['usertype'] = df['usertype'].astype('category')\n",
    "df['gender'] = df['gender'].astype('category')"
   ]
  },
  {
   "cell_type": "markdown",
   "metadata": {
    "colab_type": "text",
    "id": "pLXL1UtnTb17"
   },
   "source": [
    "<font color = 'green' size = '3'><b> For the purpose of Exploratory Data Analysis, we will converting the station names, usertype and gender to categorical variables."
   ]
  },
  {
   "cell_type": "code",
   "execution_count": 0,
   "metadata": {
    "colab": {},
    "colab_type": "code",
    "id": "TRDx-RgGTb18"
   },
   "outputs": [],
   "source": [
    "df['tripduration'] = df['tripduration']/60"
   ]
  },
  {
   "cell_type": "markdown",
   "metadata": {
    "colab_type": "text",
    "id": "8XzDzrX4Tb1_"
   },
   "source": [
    "<font color = 'green' size = '3'><b> For convenience, we will be converting tripduration from seconds to minutes and round off to 3 decimal places.<br>\n",
    "   "
   ]
  },
  {
   "cell_type": "code",
   "execution_count": 0,
   "metadata": {
    "colab": {},
    "colab_type": "code",
    "id": "vpMtVny7Tb1_",
    "outputId": "15b2d7a8-67d6-4361-a03e-8ff0337e167e"
   },
   "outputs": [
    {
     "data": {
      "text/html": [
       "<div>\n",
       "<style scoped>\n",
       "    .dataframe tbody tr th:only-of-type {\n",
       "        vertical-align: middle;\n",
       "    }\n",
       "\n",
       "    .dataframe tbody tr th {\n",
       "        vertical-align: top;\n",
       "    }\n",
       "\n",
       "    .dataframe thead th {\n",
       "        text-align: right;\n",
       "    }\n",
       "</style>\n",
       "<table border=\"1\" class=\"dataframe\">\n",
       "  <thead>\n",
       "    <tr style=\"text-align: right;\">\n",
       "      <th></th>\n",
       "      <th>tripduration</th>\n",
       "      <th>starttime</th>\n",
       "      <th>stoptime</th>\n",
       "      <th>start station id</th>\n",
       "      <th>start station name</th>\n",
       "      <th>start station latitude</th>\n",
       "      <th>start station longitude</th>\n",
       "      <th>end station id</th>\n",
       "      <th>end station name</th>\n",
       "      <th>end station latitude</th>\n",
       "      <th>end station longitude</th>\n",
       "      <th>bikeid</th>\n",
       "      <th>usertype</th>\n",
       "      <th>birth year</th>\n",
       "      <th>gender</th>\n",
       "    </tr>\n",
       "  </thead>\n",
       "  <tbody>\n",
       "    <tr>\n",
       "      <th>0</th>\n",
       "      <td>5.450000</td>\n",
       "      <td>00:02:00</td>\n",
       "      <td>05:29:03</td>\n",
       "      <td>3733</td>\n",
       "      <td>Avenue C &amp; E 18 St</td>\n",
       "      <td>40.730563</td>\n",
       "      <td>-73.973984</td>\n",
       "      <td>504</td>\n",
       "      <td>1 Ave &amp; E 16 St</td>\n",
       "      <td>40.732219</td>\n",
       "      <td>-73.981656</td>\n",
       "      <td>39213</td>\n",
       "      <td>Subscriber</td>\n",
       "      <td>1968</td>\n",
       "      <td>1</td>\n",
       "    </tr>\n",
       "    <tr>\n",
       "      <th>1</th>\n",
       "      <td>19.083333</td>\n",
       "      <td>00:04:01</td>\n",
       "      <td>19:09:08</td>\n",
       "      <td>3329</td>\n",
       "      <td>Degraw St &amp; Smith St</td>\n",
       "      <td>40.682915</td>\n",
       "      <td>-73.993182</td>\n",
       "      <td>270</td>\n",
       "      <td>Adelphi St &amp; Myrtle Ave</td>\n",
       "      <td>40.693083</td>\n",
       "      <td>-73.971789</td>\n",
       "      <td>21257</td>\n",
       "      <td>Customer</td>\n",
       "      <td>1969</td>\n",
       "      <td>0</td>\n",
       "    </tr>\n",
       "    <tr>\n",
       "      <th>2</th>\n",
       "      <td>21.550000</td>\n",
       "      <td>00:07:03</td>\n",
       "      <td>21:40:08</td>\n",
       "      <td>3168</td>\n",
       "      <td>Central Park West &amp; W 85 St</td>\n",
       "      <td>40.784727</td>\n",
       "      <td>-73.969617</td>\n",
       "      <td>423</td>\n",
       "      <td>W 54 St &amp; 9 Ave</td>\n",
       "      <td>40.765849</td>\n",
       "      <td>-73.986905</td>\n",
       "      <td>15242</td>\n",
       "      <td>Customer</td>\n",
       "      <td>1969</td>\n",
       "      <td>0</td>\n",
       "    </tr>\n",
       "    <tr>\n",
       "      <th>3</th>\n",
       "      <td>29.216667</td>\n",
       "      <td>00:08:01</td>\n",
       "      <td>05:21:05</td>\n",
       "      <td>3299</td>\n",
       "      <td>E 98 St &amp; Park Ave</td>\n",
       "      <td>40.788130</td>\n",
       "      <td>-73.952060</td>\n",
       "      <td>3160</td>\n",
       "      <td>Central Park West &amp; W 76 St</td>\n",
       "      <td>40.778968</td>\n",
       "      <td>-73.973747</td>\n",
       "      <td>38760</td>\n",
       "      <td>Subscriber</td>\n",
       "      <td>1990</td>\n",
       "      <td>1</td>\n",
       "    </tr>\n",
       "    <tr>\n",
       "      <th>4</th>\n",
       "      <td>10.216667</td>\n",
       "      <td>00:12:09</td>\n",
       "      <td>10:26:02</td>\n",
       "      <td>486</td>\n",
       "      <td>Broadway &amp; W 29 St</td>\n",
       "      <td>40.746201</td>\n",
       "      <td>-73.988557</td>\n",
       "      <td>478</td>\n",
       "      <td>11 Ave &amp; W 41 St</td>\n",
       "      <td>40.760301</td>\n",
       "      <td>-73.998842</td>\n",
       "      <td>32094</td>\n",
       "      <td>Subscriber</td>\n",
       "      <td>1992</td>\n",
       "      <td>1</td>\n",
       "    </tr>\n",
       "  </tbody>\n",
       "</table>\n",
       "</div>"
      ],
      "text/plain": [
       "   tripduration starttime stoptime  start station id  \\\n",
       "0      5.450000  00:02:00 05:29:03              3733   \n",
       "1     19.083333  00:04:01 19:09:08              3329   \n",
       "2     21.550000  00:07:03 21:40:08              3168   \n",
       "3     29.216667  00:08:01 05:21:05              3299   \n",
       "4     10.216667  00:12:09 10:26:02               486   \n",
       "\n",
       "            start station name  start station latitude  \\\n",
       "0           Avenue C & E 18 St               40.730563   \n",
       "1         Degraw St & Smith St               40.682915   \n",
       "2  Central Park West & W 85 St               40.784727   \n",
       "3           E 98 St & Park Ave               40.788130   \n",
       "4           Broadway & W 29 St               40.746201   \n",
       "\n",
       "   start station longitude  end station id             end station name  \\\n",
       "0               -73.973984             504              1 Ave & E 16 St   \n",
       "1               -73.993182             270      Adelphi St & Myrtle Ave   \n",
       "2               -73.969617             423              W 54 St & 9 Ave   \n",
       "3               -73.952060            3160  Central Park West & W 76 St   \n",
       "4               -73.988557             478             11 Ave & W 41 St   \n",
       "\n",
       "   end station latitude  end station longitude  bikeid    usertype  \\\n",
       "0             40.732219             -73.981656   39213  Subscriber   \n",
       "1             40.693083             -73.971789   21257    Customer   \n",
       "2             40.765849             -73.986905   15242    Customer   \n",
       "3             40.778968             -73.973747   38760  Subscriber   \n",
       "4             40.760301             -73.998842   32094  Subscriber   \n",
       "\n",
       "   birth year gender  \n",
       "0        1968      1  \n",
       "1        1969      0  \n",
       "2        1969      0  \n",
       "3        1990      1  \n",
       "4        1992      1  "
      ]
     },
     "execution_count": 20,
     "metadata": {
      "tags": []
     },
     "output_type": "execute_result"
    }
   ],
   "source": [
    "df.head()"
   ]
  },
  {
   "cell_type": "code",
   "execution_count": 0,
   "metadata": {
    "colab": {},
    "colab_type": "code",
    "id": "jE5QLRDfTb2B"
   },
   "outputs": [],
   "source": [
    "df['tripduration'] = df['tripduration'].round(3)"
   ]
  },
  {
   "cell_type": "code",
   "execution_count": 0,
   "metadata": {
    "colab": {},
    "colab_type": "code",
    "id": "QEjDDoHLTb2E",
    "outputId": "661eeb08-7c01-4498-d286-530a4e4e966b",
    "scrolled": true
   },
   "outputs": [
    {
     "data": {
      "text/html": [
       "<div>\n",
       "<style scoped>\n",
       "    .dataframe tbody tr th:only-of-type {\n",
       "        vertical-align: middle;\n",
       "    }\n",
       "\n",
       "    .dataframe tbody tr th {\n",
       "        vertical-align: top;\n",
       "    }\n",
       "\n",
       "    .dataframe thead th {\n",
       "        text-align: right;\n",
       "    }\n",
       "</style>\n",
       "<table border=\"1\" class=\"dataframe\">\n",
       "  <thead>\n",
       "    <tr style=\"text-align: right;\">\n",
       "      <th></th>\n",
       "      <th>tripduration</th>\n",
       "      <th>starttime</th>\n",
       "      <th>stoptime</th>\n",
       "      <th>start station id</th>\n",
       "      <th>start station name</th>\n",
       "      <th>start station latitude</th>\n",
       "      <th>start station longitude</th>\n",
       "      <th>end station id</th>\n",
       "      <th>end station name</th>\n",
       "      <th>end station latitude</th>\n",
       "      <th>end station longitude</th>\n",
       "      <th>bikeid</th>\n",
       "      <th>usertype</th>\n",
       "      <th>birth year</th>\n",
       "      <th>gender</th>\n",
       "    </tr>\n",
       "  </thead>\n",
       "  <tbody>\n",
       "    <tr>\n",
       "      <th>0</th>\n",
       "      <td>5.450</td>\n",
       "      <td>00:02:00</td>\n",
       "      <td>05:29:03</td>\n",
       "      <td>3733</td>\n",
       "      <td>Avenue C &amp; E 18 St</td>\n",
       "      <td>40.730563</td>\n",
       "      <td>-73.973984</td>\n",
       "      <td>504</td>\n",
       "      <td>1 Ave &amp; E 16 St</td>\n",
       "      <td>40.732219</td>\n",
       "      <td>-73.981656</td>\n",
       "      <td>39213</td>\n",
       "      <td>Subscriber</td>\n",
       "      <td>1968</td>\n",
       "      <td>1</td>\n",
       "    </tr>\n",
       "    <tr>\n",
       "      <th>1</th>\n",
       "      <td>19.083</td>\n",
       "      <td>00:04:01</td>\n",
       "      <td>19:09:08</td>\n",
       "      <td>3329</td>\n",
       "      <td>Degraw St &amp; Smith St</td>\n",
       "      <td>40.682915</td>\n",
       "      <td>-73.993182</td>\n",
       "      <td>270</td>\n",
       "      <td>Adelphi St &amp; Myrtle Ave</td>\n",
       "      <td>40.693083</td>\n",
       "      <td>-73.971789</td>\n",
       "      <td>21257</td>\n",
       "      <td>Customer</td>\n",
       "      <td>1969</td>\n",
       "      <td>0</td>\n",
       "    </tr>\n",
       "    <tr>\n",
       "      <th>2</th>\n",
       "      <td>21.550</td>\n",
       "      <td>00:07:03</td>\n",
       "      <td>21:40:08</td>\n",
       "      <td>3168</td>\n",
       "      <td>Central Park West &amp; W 85 St</td>\n",
       "      <td>40.784727</td>\n",
       "      <td>-73.969617</td>\n",
       "      <td>423</td>\n",
       "      <td>W 54 St &amp; 9 Ave</td>\n",
       "      <td>40.765849</td>\n",
       "      <td>-73.986905</td>\n",
       "      <td>15242</td>\n",
       "      <td>Customer</td>\n",
       "      <td>1969</td>\n",
       "      <td>0</td>\n",
       "    </tr>\n",
       "    <tr>\n",
       "      <th>3</th>\n",
       "      <td>29.217</td>\n",
       "      <td>00:08:01</td>\n",
       "      <td>05:21:05</td>\n",
       "      <td>3299</td>\n",
       "      <td>E 98 St &amp; Park Ave</td>\n",
       "      <td>40.788130</td>\n",
       "      <td>-73.952060</td>\n",
       "      <td>3160</td>\n",
       "      <td>Central Park West &amp; W 76 St</td>\n",
       "      <td>40.778968</td>\n",
       "      <td>-73.973747</td>\n",
       "      <td>38760</td>\n",
       "      <td>Subscriber</td>\n",
       "      <td>1990</td>\n",
       "      <td>1</td>\n",
       "    </tr>\n",
       "    <tr>\n",
       "      <th>4</th>\n",
       "      <td>10.217</td>\n",
       "      <td>00:12:09</td>\n",
       "      <td>10:26:02</td>\n",
       "      <td>486</td>\n",
       "      <td>Broadway &amp; W 29 St</td>\n",
       "      <td>40.746201</td>\n",
       "      <td>-73.988557</td>\n",
       "      <td>478</td>\n",
       "      <td>11 Ave &amp; W 41 St</td>\n",
       "      <td>40.760301</td>\n",
       "      <td>-73.998842</td>\n",
       "      <td>32094</td>\n",
       "      <td>Subscriber</td>\n",
       "      <td>1992</td>\n",
       "      <td>1</td>\n",
       "    </tr>\n",
       "  </tbody>\n",
       "</table>\n",
       "</div>"
      ],
      "text/plain": [
       "   tripduration starttime stoptime  start station id  \\\n",
       "0         5.450  00:02:00 05:29:03              3733   \n",
       "1        19.083  00:04:01 19:09:08              3329   \n",
       "2        21.550  00:07:03 21:40:08              3168   \n",
       "3        29.217  00:08:01 05:21:05              3299   \n",
       "4        10.217  00:12:09 10:26:02               486   \n",
       "\n",
       "            start station name  start station latitude  \\\n",
       "0           Avenue C & E 18 St               40.730563   \n",
       "1         Degraw St & Smith St               40.682915   \n",
       "2  Central Park West & W 85 St               40.784727   \n",
       "3           E 98 St & Park Ave               40.788130   \n",
       "4           Broadway & W 29 St               40.746201   \n",
       "\n",
       "   start station longitude  end station id             end station name  \\\n",
       "0               -73.973984             504              1 Ave & E 16 St   \n",
       "1               -73.993182             270      Adelphi St & Myrtle Ave   \n",
       "2               -73.969617             423              W 54 St & 9 Ave   \n",
       "3               -73.952060            3160  Central Park West & W 76 St   \n",
       "4               -73.988557             478             11 Ave & W 41 St   \n",
       "\n",
       "   end station latitude  end station longitude  bikeid    usertype  \\\n",
       "0             40.732219             -73.981656   39213  Subscriber   \n",
       "1             40.693083             -73.971789   21257    Customer   \n",
       "2             40.765849             -73.986905   15242    Customer   \n",
       "3             40.778968             -73.973747   38760  Subscriber   \n",
       "4             40.760301             -73.998842   32094  Subscriber   \n",
       "\n",
       "   birth year gender  \n",
       "0        1968      1  \n",
       "1        1969      0  \n",
       "2        1969      0  \n",
       "3        1990      1  \n",
       "4        1992      1  "
      ]
     },
     "execution_count": 22,
     "metadata": {
      "tags": []
     },
     "output_type": "execute_result"
    }
   ],
   "source": [
    "df.head()"
   ]
  },
  {
   "cell_type": "markdown",
   "metadata": {
    "colab_type": "text",
    "id": "-hnXEUGdTb2L"
   },
   "source": [
    "<font color = 'green' size = '3'><b> We will be checking if the latitude and longitude values conform to the standard values  - (Latitude = -90 to +90, Longitude = -180 to +180).<br>"
   ]
  },
  {
   "cell_type": "code",
   "execution_count": 0,
   "metadata": {
    "colab": {},
    "colab_type": "code",
    "id": "8pMxPv3gTb2L",
    "outputId": "151dc558-f3d0-40ec-b4c0-9a63705ab148"
   },
   "outputs": [
    {
     "data": {
      "text/plain": [
       "count    1.048575e+06\n",
       "mean     4.073735e+01\n",
       "std      3.024812e-02\n",
       "min      4.065540e+01\n",
       "25%      4.071755e+01\n",
       "50%      4.073705e+01\n",
       "75%      4.075725e+01\n",
       "max      4.081439e+01\n",
       "Name: start station latitude, dtype: float64"
      ]
     },
     "execution_count": 23,
     "metadata": {
      "tags": []
     },
     "output_type": "execute_result"
    }
   ],
   "source": [
    "df['start station latitude'].describe()"
   ]
  },
  {
   "cell_type": "code",
   "execution_count": 0,
   "metadata": {
    "colab": {},
    "colab_type": "code",
    "id": "sqFFIwZiTb2O",
    "outputId": "d5e71cd0-8801-4791-9eb1-b1cf4a3fa71a"
   },
   "outputs": [
    {
     "data": {
      "text/plain": [
       "count    1.048575e+06\n",
       "mean     4.073698e+01\n",
       "std      3.014928e-02\n",
       "min      4.065540e+01\n",
       "25%      4.071749e+01\n",
       "50%      4.073653e+01\n",
       "75%      4.075680e+01\n",
       "max      4.081439e+01\n",
       "Name: end station latitude, dtype: float64"
      ]
     },
     "execution_count": 24,
     "metadata": {
      "tags": []
     },
     "output_type": "execute_result"
    }
   ],
   "source": [
    "df['end station latitude'].describe()"
   ]
  },
  {
   "cell_type": "code",
   "execution_count": 0,
   "metadata": {
    "colab": {},
    "colab_type": "code",
    "id": "LeahmefbTb2Q",
    "outputId": "96b9ba76-325a-4cf2-ffef-2b472dddec17"
   },
   "outputs": [
    {
     "data": {
      "text/plain": [
       "count    1.048575e+06\n",
       "mean    -7.398213e+01\n",
       "std      2.016519e-02\n",
       "min     -7.402535e+01\n",
       "25%     -7.399596e+01\n",
       "50%     -7.398584e+01\n",
       "75%     -7.397121e+01\n",
       "max     -7.390774e+01\n",
       "Name: start station longitude, dtype: float64"
      ]
     },
     "execution_count": 25,
     "metadata": {
      "tags": []
     },
     "output_type": "execute_result"
    }
   ],
   "source": [
    "df['start station longitude'].describe()"
   ]
  },
  {
   "cell_type": "code",
   "execution_count": 0,
   "metadata": {
    "colab": {},
    "colab_type": "code",
    "id": "vOYJ5p8ZTb2S",
    "outputId": "dc7c587c-b5e6-4813-f3a9-38422727593e"
   },
   "outputs": [
    {
     "data": {
      "text/plain": [
       "count    1.048575e+06\n",
       "mean    -7.398234e+01\n",
       "std      2.023096e-02\n",
       "min     -7.404282e+01\n",
       "25%     -7.399662e+01\n",
       "50%     -7.398627e+01\n",
       "75%     -7.397121e+01\n",
       "max     -7.390774e+01\n",
       "Name: end station longitude, dtype: float64"
      ]
     },
     "execution_count": 26,
     "metadata": {
      "tags": []
     },
     "output_type": "execute_result"
    }
   ],
   "source": [
    "df['end station longitude'].describe()"
   ]
  },
  {
   "cell_type": "code",
   "execution_count": 0,
   "metadata": {
    "colab": {},
    "colab_type": "code",
    "id": "RgVKm2HPTb2f"
   },
   "outputs": [],
   "source": [
    "start_lat = np.where((df['start station latitude']< -90) | (df['start station latitude'] > 90))"
   ]
  },
  {
   "cell_type": "code",
   "execution_count": 0,
   "metadata": {
    "colab": {},
    "colab_type": "code",
    "id": "0N3gHGteTb2h",
    "outputId": "d34e16da-0b9f-4d69-a970-1987b5805983"
   },
   "outputs": [
    {
     "data": {
      "text/plain": [
       "(array([], dtype=int64),)"
      ]
     },
     "execution_count": 28,
     "metadata": {
      "tags": []
     },
     "output_type": "execute_result"
    }
   ],
   "source": [
    "start_lat"
   ]
  },
  {
   "cell_type": "code",
   "execution_count": 0,
   "metadata": {
    "colab": {},
    "colab_type": "code",
    "id": "dd4i106mTb2j"
   },
   "outputs": [],
   "source": [
    "start_long = np.where((df['start station longitude']< -180) | (df['start station longitude'] > 180))"
   ]
  },
  {
   "cell_type": "code",
   "execution_count": 0,
   "metadata": {
    "colab": {},
    "colab_type": "code",
    "id": "SRmuqvLxTb2l",
    "outputId": "c0f94ddb-2c97-4137-cf26-881bd1cabddc"
   },
   "outputs": [
    {
     "data": {
      "text/plain": [
       "(array([], dtype=int64),)"
      ]
     },
     "execution_count": 30,
     "metadata": {
      "tags": []
     },
     "output_type": "execute_result"
    }
   ],
   "source": [
    "start_long"
   ]
  },
  {
   "cell_type": "code",
   "execution_count": 0,
   "metadata": {
    "colab": {},
    "colab_type": "code",
    "id": "9-kHunZrTb2n"
   },
   "outputs": [],
   "source": [
    "end_lat = np.where((df['end station latitude']< -90) | (df['end station latitude'] > 90))"
   ]
  },
  {
   "cell_type": "code",
   "execution_count": 0,
   "metadata": {
    "colab": {},
    "colab_type": "code",
    "id": "1ip30qAgTb2p",
    "outputId": "2828dca7-75c0-411f-bede-82b1a7c4708c"
   },
   "outputs": [
    {
     "data": {
      "text/plain": [
       "(array([], dtype=int64),)"
      ]
     },
     "execution_count": 32,
     "metadata": {
      "tags": []
     },
     "output_type": "execute_result"
    }
   ],
   "source": [
    "end_lat"
   ]
  },
  {
   "cell_type": "code",
   "execution_count": 0,
   "metadata": {
    "colab": {},
    "colab_type": "code",
    "id": "d0yGnFjdTb2r"
   },
   "outputs": [],
   "source": [
    "end_long = np.where((df['end station longitude']< -180) | (df['end station longitude'] > 180))"
   ]
  },
  {
   "cell_type": "code",
   "execution_count": 0,
   "metadata": {
    "colab": {},
    "colab_type": "code",
    "id": "yBx3qbLqTb2v",
    "outputId": "c9ae5bbc-02a4-43df-b15c-7ddf5c51921d"
   },
   "outputs": [
    {
     "data": {
      "text/plain": [
       "(array([], dtype=int64),)"
      ]
     },
     "execution_count": 34,
     "metadata": {
      "tags": []
     },
     "output_type": "execute_result"
    }
   ],
   "source": [
    "end_long"
   ]
  },
  {
   "cell_type": "markdown",
   "metadata": {
    "colab_type": "text",
    "id": "gyeG6GxWTb2z"
   },
   "source": [
    "<font color = 'green' size = '3'><b>Considering the city of New York, we have to keep in mind the longitude and latitude boundaries of the city. After some domain research, we found out that,<br>\n",
    "\n",
    "<b>Longitude Boundary - (-74.03, -73.75)</b><br>\n",
    "\n",
    "\n",
    "<b>Latitude Boundary - (40.63, 40.85)</b><br>\n",
    "    \n",
    "Hence, we need to remove values outside this boundary."
   ]
  },
  {
   "cell_type": "code",
   "execution_count": 0,
   "metadata": {
    "colab": {},
    "colab_type": "code",
    "id": "ajOPDfJlTb2z"
   },
   "outputs": [],
   "source": [
    "nyc_boundary = {'min_lng':-74.263242,\n",
    "              'min_lat':40.573143,\n",
    "              'max_lng':-72.986532, \n",
    "              'max_lat':41.709555}"
   ]
  },
  {
   "cell_type": "code",
   "execution_count": 0,
   "metadata": {
    "colab": {},
    "colab_type": "code",
    "id": "pHJv48A3Tb24"
   },
   "outputs": [],
   "source": [
    "outside_nyc = np.where(~((df['start station longitude'] >= nyc_boundary['min_lng'] ) & (df['start station longitude'] <= nyc_boundary['max_lng']) &\n",
    "            (df['start station latitude'] >= nyc_boundary['min_lat']) & (df['start station latitude'] <= nyc_boundary['max_lat']) &\n",
    "            (df['end station longitude'] >= nyc_boundary['min_lng']) & (df['end station longitude'] <= nyc_boundary['max_lng']) &\n",
    "            (df['end station latitude'] >=nyc_boundary['min_lat']) & (df['end station latitude'] <= nyc_boundary['max_lat'])))"
   ]
  },
  {
   "cell_type": "code",
   "execution_count": 0,
   "metadata": {
    "colab": {},
    "colab_type": "code",
    "id": "P2nQopYTTb25",
    "outputId": "1d855eaf-f3a1-44eb-8401-48c688213c73"
   },
   "outputs": [
    {
     "data": {
      "text/plain": [
       "(array([], dtype=int64),)"
      ]
     },
     "execution_count": 37,
     "metadata": {
      "tags": []
     },
     "output_type": "execute_result"
    }
   ],
   "source": [
    "outside_nyc"
   ]
  },
  {
   "cell_type": "markdown",
   "metadata": {
    "colab_type": "text",
    "id": "ynQa-CiVTb27"
   },
   "source": [
    "### Haversine Distance"
   ]
  },
  {
   "cell_type": "markdown",
   "metadata": {
    "colab_type": "text",
    "id": "yRs9g_rhTb27"
   },
   "source": [
    "<font color = 'green' size = '3'><b> Haversine distance calculates the distance between two locations based on the latitude and longitude values.<br>"
   ]
  },
  {
   "cell_type": "code",
   "execution_count": 0,
   "metadata": {
    "colab": {},
    "colab_type": "code",
    "id": "0Kxcd1DQTb2-"
   },
   "outputs": [],
   "source": [
    "def distance(lat1, long1, lat2, long2):\n",
    "    data = [df]\n",
    "    for i in data:\n",
    "        R = 6371 #radius of earth in kilometers\n",
    "        phi1 = np.radians(i[lat1])\n",
    "        phi2 = np.radians(i[lat2])\n",
    "    \n",
    "        delta_phi = np.radians(i[lat2]-i[lat1])\n",
    "        delta_lambda = np.radians(i[long2]-i[long1])\n",
    "    \n",
    "        a = np.sin(delta_phi / 2.0) ** 2 + np.cos(phi1) * np.cos(phi2) * np.sin(delta_lambda / 2.0) ** 2\n",
    "    \n",
    "        c = 2 * np.arctan2(np.sqrt(a), np.sqrt(1-a))\n",
    "    \n",
    "        d = (R * c)\n",
    "        i['trip_distance'] = d\n",
    "    return d"
   ]
  },
  {
   "cell_type": "code",
   "execution_count": 0,
   "metadata": {
    "colab": {},
    "colab_type": "code",
    "id": "RBm1pI3zTb3C",
    "outputId": "8bc9a996-b905-4a31-d3b2-9c17ba058c1d"
   },
   "outputs": [
    {
     "data": {
      "text/plain": [
       "0          0.672115\n",
       "1          2.128793\n",
       "2          2.554454\n",
       "3          2.090950\n",
       "4          1.791288\n",
       "             ...   \n",
       "1048570    4.621949\n",
       "1048571    1.710085\n",
       "1048572    0.944970\n",
       "1048573    0.549538\n",
       "1048574    3.731949\n",
       "Length: 1048575, dtype: float64"
      ]
     },
     "execution_count": 39,
     "metadata": {
      "tags": []
     },
     "output_type": "execute_result"
    }
   ],
   "source": [
    "distance('start station latitude', 'start station longitude', 'end station latitude','end station longitude')"
   ]
  },
  {
   "cell_type": "code",
   "execution_count": 0,
   "metadata": {
    "colab": {},
    "colab_type": "code",
    "id": "vYgcSb_TTb3H",
    "outputId": "72ce10f2-9423-48d2-b13b-dbb6fb9b1bbb"
   },
   "outputs": [
    {
     "data": {
      "text/html": [
       "<div>\n",
       "<style scoped>\n",
       "    .dataframe tbody tr th:only-of-type {\n",
       "        vertical-align: middle;\n",
       "    }\n",
       "\n",
       "    .dataframe tbody tr th {\n",
       "        vertical-align: top;\n",
       "    }\n",
       "\n",
       "    .dataframe thead th {\n",
       "        text-align: right;\n",
       "    }\n",
       "</style>\n",
       "<table border=\"1\" class=\"dataframe\">\n",
       "  <thead>\n",
       "    <tr style=\"text-align: right;\">\n",
       "      <th></th>\n",
       "      <th>tripduration</th>\n",
       "      <th>starttime</th>\n",
       "      <th>stoptime</th>\n",
       "      <th>start station id</th>\n",
       "      <th>start station name</th>\n",
       "      <th>start station latitude</th>\n",
       "      <th>start station longitude</th>\n",
       "      <th>end station id</th>\n",
       "      <th>end station name</th>\n",
       "      <th>end station latitude</th>\n",
       "      <th>end station longitude</th>\n",
       "      <th>bikeid</th>\n",
       "      <th>usertype</th>\n",
       "      <th>birth year</th>\n",
       "      <th>gender</th>\n",
       "      <th>trip_distance</th>\n",
       "    </tr>\n",
       "  </thead>\n",
       "  <tbody>\n",
       "    <tr>\n",
       "      <th>0</th>\n",
       "      <td>5.450</td>\n",
       "      <td>00:02:00</td>\n",
       "      <td>05:29:03</td>\n",
       "      <td>3733</td>\n",
       "      <td>Avenue C &amp; E 18 St</td>\n",
       "      <td>40.730563</td>\n",
       "      <td>-73.973984</td>\n",
       "      <td>504</td>\n",
       "      <td>1 Ave &amp; E 16 St</td>\n",
       "      <td>40.732219</td>\n",
       "      <td>-73.981656</td>\n",
       "      <td>39213</td>\n",
       "      <td>Subscriber</td>\n",
       "      <td>1968</td>\n",
       "      <td>1</td>\n",
       "      <td>0.672115</td>\n",
       "    </tr>\n",
       "    <tr>\n",
       "      <th>1</th>\n",
       "      <td>19.083</td>\n",
       "      <td>00:04:01</td>\n",
       "      <td>19:09:08</td>\n",
       "      <td>3329</td>\n",
       "      <td>Degraw St &amp; Smith St</td>\n",
       "      <td>40.682915</td>\n",
       "      <td>-73.993182</td>\n",
       "      <td>270</td>\n",
       "      <td>Adelphi St &amp; Myrtle Ave</td>\n",
       "      <td>40.693083</td>\n",
       "      <td>-73.971789</td>\n",
       "      <td>21257</td>\n",
       "      <td>Customer</td>\n",
       "      <td>1969</td>\n",
       "      <td>0</td>\n",
       "      <td>2.128793</td>\n",
       "    </tr>\n",
       "    <tr>\n",
       "      <th>2</th>\n",
       "      <td>21.550</td>\n",
       "      <td>00:07:03</td>\n",
       "      <td>21:40:08</td>\n",
       "      <td>3168</td>\n",
       "      <td>Central Park West &amp; W 85 St</td>\n",
       "      <td>40.784727</td>\n",
       "      <td>-73.969617</td>\n",
       "      <td>423</td>\n",
       "      <td>W 54 St &amp; 9 Ave</td>\n",
       "      <td>40.765849</td>\n",
       "      <td>-73.986905</td>\n",
       "      <td>15242</td>\n",
       "      <td>Customer</td>\n",
       "      <td>1969</td>\n",
       "      <td>0</td>\n",
       "      <td>2.554454</td>\n",
       "    </tr>\n",
       "    <tr>\n",
       "      <th>3</th>\n",
       "      <td>29.217</td>\n",
       "      <td>00:08:01</td>\n",
       "      <td>05:21:05</td>\n",
       "      <td>3299</td>\n",
       "      <td>E 98 St &amp; Park Ave</td>\n",
       "      <td>40.788130</td>\n",
       "      <td>-73.952060</td>\n",
       "      <td>3160</td>\n",
       "      <td>Central Park West &amp; W 76 St</td>\n",
       "      <td>40.778968</td>\n",
       "      <td>-73.973747</td>\n",
       "      <td>38760</td>\n",
       "      <td>Subscriber</td>\n",
       "      <td>1990</td>\n",
       "      <td>1</td>\n",
       "      <td>2.090950</td>\n",
       "    </tr>\n",
       "    <tr>\n",
       "      <th>4</th>\n",
       "      <td>10.217</td>\n",
       "      <td>00:12:09</td>\n",
       "      <td>10:26:02</td>\n",
       "      <td>486</td>\n",
       "      <td>Broadway &amp; W 29 St</td>\n",
       "      <td>40.746201</td>\n",
       "      <td>-73.988557</td>\n",
       "      <td>478</td>\n",
       "      <td>11 Ave &amp; W 41 St</td>\n",
       "      <td>40.760301</td>\n",
       "      <td>-73.998842</td>\n",
       "      <td>32094</td>\n",
       "      <td>Subscriber</td>\n",
       "      <td>1992</td>\n",
       "      <td>1</td>\n",
       "      <td>1.791288</td>\n",
       "    </tr>\n",
       "  </tbody>\n",
       "</table>\n",
       "</div>"
      ],
      "text/plain": [
       "   tripduration starttime stoptime  start station id  \\\n",
       "0         5.450  00:02:00 05:29:03              3733   \n",
       "1        19.083  00:04:01 19:09:08              3329   \n",
       "2        21.550  00:07:03 21:40:08              3168   \n",
       "3        29.217  00:08:01 05:21:05              3299   \n",
       "4        10.217  00:12:09 10:26:02               486   \n",
       "\n",
       "            start station name  start station latitude  \\\n",
       "0           Avenue C & E 18 St               40.730563   \n",
       "1         Degraw St & Smith St               40.682915   \n",
       "2  Central Park West & W 85 St               40.784727   \n",
       "3           E 98 St & Park Ave               40.788130   \n",
       "4           Broadway & W 29 St               40.746201   \n",
       "\n",
       "   start station longitude  end station id             end station name  \\\n",
       "0               -73.973984             504              1 Ave & E 16 St   \n",
       "1               -73.993182             270      Adelphi St & Myrtle Ave   \n",
       "2               -73.969617             423              W 54 St & 9 Ave   \n",
       "3               -73.952060            3160  Central Park West & W 76 St   \n",
       "4               -73.988557             478             11 Ave & W 41 St   \n",
       "\n",
       "   end station latitude  end station longitude  bikeid    usertype  \\\n",
       "0             40.732219             -73.981656   39213  Subscriber   \n",
       "1             40.693083             -73.971789   21257    Customer   \n",
       "2             40.765849             -73.986905   15242    Customer   \n",
       "3             40.778968             -73.973747   38760  Subscriber   \n",
       "4             40.760301             -73.998842   32094  Subscriber   \n",
       "\n",
       "   birth year gender  trip_distance  \n",
       "0        1968      1       0.672115  \n",
       "1        1969      0       2.128793  \n",
       "2        1969      0       2.554454  \n",
       "3        1990      1       2.090950  \n",
       "4        1992      1       1.791288  "
      ]
     },
     "execution_count": 40,
     "metadata": {
      "tags": []
     },
     "output_type": "execute_result"
    }
   ],
   "source": [
    "df.head()"
   ]
  },
  {
   "cell_type": "code",
   "execution_count": 0,
   "metadata": {
    "colab": {},
    "colab_type": "code",
    "id": "3VZtmkxjTb3J"
   },
   "outputs": [],
   "source": [
    "from datetime import datetime\n",
    "now = datetime.now()\n",
    "df[\"age\"] =  now.year - df[\"birth year\"]"
   ]
  },
  {
   "cell_type": "markdown",
   "metadata": {
    "colab_type": "text",
    "id": "WkfRfrunTb3K"
   },
   "source": [
    "<font color = 'green' size = '3'><b>From the birth year column we featured engineered the column name \"age\" for further analysis on the age group using the datetime library."
   ]
  },
  {
   "cell_type": "code",
   "execution_count": 0,
   "metadata": {
    "colab": {},
    "colab_type": "code",
    "id": "SIVOYWDrTb3L",
    "outputId": "2845d30b-1bf5-45d7-d9ee-3639d8c64dc9"
   },
   "outputs": [
    {
     "data": {
      "text/html": [
       "<div>\n",
       "<style scoped>\n",
       "    .dataframe tbody tr th:only-of-type {\n",
       "        vertical-align: middle;\n",
       "    }\n",
       "\n",
       "    .dataframe tbody tr th {\n",
       "        vertical-align: top;\n",
       "    }\n",
       "\n",
       "    .dataframe thead th {\n",
       "        text-align: right;\n",
       "    }\n",
       "</style>\n",
       "<table border=\"1\" class=\"dataframe\">\n",
       "  <thead>\n",
       "    <tr style=\"text-align: right;\">\n",
       "      <th></th>\n",
       "      <th>tripduration</th>\n",
       "      <th>starttime</th>\n",
       "      <th>stoptime</th>\n",
       "      <th>start station id</th>\n",
       "      <th>start station name</th>\n",
       "      <th>start station latitude</th>\n",
       "      <th>start station longitude</th>\n",
       "      <th>end station id</th>\n",
       "      <th>end station name</th>\n",
       "      <th>end station latitude</th>\n",
       "      <th>end station longitude</th>\n",
       "      <th>bikeid</th>\n",
       "      <th>usertype</th>\n",
       "      <th>birth year</th>\n",
       "      <th>gender</th>\n",
       "      <th>trip_distance</th>\n",
       "      <th>age</th>\n",
       "    </tr>\n",
       "  </thead>\n",
       "  <tbody>\n",
       "    <tr>\n",
       "      <th>0</th>\n",
       "      <td>5.450</td>\n",
       "      <td>00:02:00</td>\n",
       "      <td>05:29:03</td>\n",
       "      <td>3733</td>\n",
       "      <td>Avenue C &amp; E 18 St</td>\n",
       "      <td>40.730563</td>\n",
       "      <td>-73.973984</td>\n",
       "      <td>504</td>\n",
       "      <td>1 Ave &amp; E 16 St</td>\n",
       "      <td>40.732219</td>\n",
       "      <td>-73.981656</td>\n",
       "      <td>39213</td>\n",
       "      <td>Subscriber</td>\n",
       "      <td>1968</td>\n",
       "      <td>1</td>\n",
       "      <td>0.672115</td>\n",
       "      <td>51</td>\n",
       "    </tr>\n",
       "    <tr>\n",
       "      <th>1</th>\n",
       "      <td>19.083</td>\n",
       "      <td>00:04:01</td>\n",
       "      <td>19:09:08</td>\n",
       "      <td>3329</td>\n",
       "      <td>Degraw St &amp; Smith St</td>\n",
       "      <td>40.682915</td>\n",
       "      <td>-73.993182</td>\n",
       "      <td>270</td>\n",
       "      <td>Adelphi St &amp; Myrtle Ave</td>\n",
       "      <td>40.693083</td>\n",
       "      <td>-73.971789</td>\n",
       "      <td>21257</td>\n",
       "      <td>Customer</td>\n",
       "      <td>1969</td>\n",
       "      <td>0</td>\n",
       "      <td>2.128793</td>\n",
       "      <td>50</td>\n",
       "    </tr>\n",
       "    <tr>\n",
       "      <th>2</th>\n",
       "      <td>21.550</td>\n",
       "      <td>00:07:03</td>\n",
       "      <td>21:40:08</td>\n",
       "      <td>3168</td>\n",
       "      <td>Central Park West &amp; W 85 St</td>\n",
       "      <td>40.784727</td>\n",
       "      <td>-73.969617</td>\n",
       "      <td>423</td>\n",
       "      <td>W 54 St &amp; 9 Ave</td>\n",
       "      <td>40.765849</td>\n",
       "      <td>-73.986905</td>\n",
       "      <td>15242</td>\n",
       "      <td>Customer</td>\n",
       "      <td>1969</td>\n",
       "      <td>0</td>\n",
       "      <td>2.554454</td>\n",
       "      <td>50</td>\n",
       "    </tr>\n",
       "    <tr>\n",
       "      <th>3</th>\n",
       "      <td>29.217</td>\n",
       "      <td>00:08:01</td>\n",
       "      <td>05:21:05</td>\n",
       "      <td>3299</td>\n",
       "      <td>E 98 St &amp; Park Ave</td>\n",
       "      <td>40.788130</td>\n",
       "      <td>-73.952060</td>\n",
       "      <td>3160</td>\n",
       "      <td>Central Park West &amp; W 76 St</td>\n",
       "      <td>40.778968</td>\n",
       "      <td>-73.973747</td>\n",
       "      <td>38760</td>\n",
       "      <td>Subscriber</td>\n",
       "      <td>1990</td>\n",
       "      <td>1</td>\n",
       "      <td>2.090950</td>\n",
       "      <td>29</td>\n",
       "    </tr>\n",
       "    <tr>\n",
       "      <th>4</th>\n",
       "      <td>10.217</td>\n",
       "      <td>00:12:09</td>\n",
       "      <td>10:26:02</td>\n",
       "      <td>486</td>\n",
       "      <td>Broadway &amp; W 29 St</td>\n",
       "      <td>40.746201</td>\n",
       "      <td>-73.988557</td>\n",
       "      <td>478</td>\n",
       "      <td>11 Ave &amp; W 41 St</td>\n",
       "      <td>40.760301</td>\n",
       "      <td>-73.998842</td>\n",
       "      <td>32094</td>\n",
       "      <td>Subscriber</td>\n",
       "      <td>1992</td>\n",
       "      <td>1</td>\n",
       "      <td>1.791288</td>\n",
       "      <td>27</td>\n",
       "    </tr>\n",
       "  </tbody>\n",
       "</table>\n",
       "</div>"
      ],
      "text/plain": [
       "   tripduration starttime stoptime  start station id  \\\n",
       "0         5.450  00:02:00 05:29:03              3733   \n",
       "1        19.083  00:04:01 19:09:08              3329   \n",
       "2        21.550  00:07:03 21:40:08              3168   \n",
       "3        29.217  00:08:01 05:21:05              3299   \n",
       "4        10.217  00:12:09 10:26:02               486   \n",
       "\n",
       "            start station name  start station latitude  \\\n",
       "0           Avenue C & E 18 St               40.730563   \n",
       "1         Degraw St & Smith St               40.682915   \n",
       "2  Central Park West & W 85 St               40.784727   \n",
       "3           E 98 St & Park Ave               40.788130   \n",
       "4           Broadway & W 29 St               40.746201   \n",
       "\n",
       "   start station longitude  end station id             end station name  \\\n",
       "0               -73.973984             504              1 Ave & E 16 St   \n",
       "1               -73.993182             270      Adelphi St & Myrtle Ave   \n",
       "2               -73.969617             423              W 54 St & 9 Ave   \n",
       "3               -73.952060            3160  Central Park West & W 76 St   \n",
       "4               -73.988557             478             11 Ave & W 41 St   \n",
       "\n",
       "   end station latitude  end station longitude  bikeid    usertype  \\\n",
       "0             40.732219             -73.981656   39213  Subscriber   \n",
       "1             40.693083             -73.971789   21257    Customer   \n",
       "2             40.765849             -73.986905   15242    Customer   \n",
       "3             40.778968             -73.973747   38760  Subscriber   \n",
       "4             40.760301             -73.998842   32094  Subscriber   \n",
       "\n",
       "   birth year gender  trip_distance  age  \n",
       "0        1968      1       0.672115   51  \n",
       "1        1969      0       2.128793   50  \n",
       "2        1969      0       2.554454   50  \n",
       "3        1990      1       2.090950   29  \n",
       "4        1992      1       1.791288   27  "
      ]
     },
     "execution_count": 42,
     "metadata": {
      "tags": []
     },
     "output_type": "execute_result"
    }
   ],
   "source": [
    "df.head()"
   ]
  },
  {
   "cell_type": "markdown",
   "metadata": {
    "colab_type": "text",
    "id": "C9iqBF7gTb3M"
   },
   "source": [
    "<font color = 'green' size = '3'><b> We have created a dictionary for the 5 boroughs of New York, namely - Manhattan, Queens, Brooklyn, Bronx and Staten Island, with their boundary coordinates.<br>"
   ]
  },
  {
   "cell_type": "code",
   "execution_count": 0,
   "metadata": {
    "colab": {},
    "colab_type": "code",
    "id": "Nwe4nv68Tb3N"
   },
   "outputs": [],
   "source": [
    "nyc_boroughs = {\n",
    "    \n",
    "        'manhattan':{\n",
    "        'min_lng':-74.0479,\n",
    "        'min_lat':40.6829,\n",
    "        'max_lng':-73.9067,\n",
    "        'max_lat':40.8820\n",
    "    },\n",
    "    \n",
    "    'queens':{\n",
    "        'min_lng':-73.9630,\n",
    "        'min_lat':40.5431,\n",
    "        'max_lng':-73.7004,\n",
    "        'max_lat':40.8007\n",
    "\n",
    "    },\n",
    "\n",
    "    'brooklyn':{\n",
    "        'min_lng':-74.0421,\n",
    "        'min_lat':40.5707,\n",
    "        'max_lng':-73.8334,\n",
    "        'max_lat':40.7395\n",
    "\n",
    "    },\n",
    "\n",
    "    'bronx':{\n",
    "        'min_lng':-73.9339,\n",
    "        'min_lat':40.7855,\n",
    "        'max_lng':-73.7654,\n",
    "        'max_lat':40.9176\n",
    "\n",
    "    },\n",
    "\n",
    "    'staten_island':{\n",
    "        'min_lng':-74.2558,\n",
    "        'min_lat':40.4960,\n",
    "        'max_lng':-74.0522,\n",
    "        'max_lat':40.6490\n",
    "\n",
    "    }\n",
    "    \n",
    "}"
   ]
  },
  {
   "cell_type": "code",
   "execution_count": 0,
   "metadata": {
    "colab": {},
    "colab_type": "code",
    "id": "o__6r-cTTb3R"
   },
   "outputs": [],
   "source": [
    "def borough(lat,long):\n",
    "    locs=nyc_boroughs.keys()\n",
    "    for loc in locs:\n",
    "        if lat>=nyc_boroughs[loc]['min_lat'] and lat<=nyc_boroughs[loc]['max_lat'] and long>=nyc_boroughs[loc]['min_lng'] and long<=nyc_boroughs[loc]['max_lng']:\n",
    "            return loc\n",
    "    return 'others'"
   ]
  },
  {
   "cell_type": "code",
   "execution_count": 0,
   "metadata": {
    "colab": {},
    "colab_type": "code",
    "id": "6fDlsySSTb3S"
   },
   "outputs": [],
   "source": [
    "df['pickup_borough'] = df.apply(lambda row : borough(row['start station latitude'],row['start station longitude']), axis = 1)"
   ]
  },
  {
   "cell_type": "code",
   "execution_count": 0,
   "metadata": {
    "colab": {},
    "colab_type": "code",
    "id": "lwOmpoBUTb3W"
   },
   "outputs": [],
   "source": [
    "df['dropoff_borough'] = df.apply(lambda row : borough(row['end station latitude'],row['end station longitude']), axis = 1)"
   ]
  },
  {
   "cell_type": "markdown",
   "metadata": {
    "colab_type": "text",
    "id": "FNI7yEDkTb3Y"
   },
   "source": [
    "<font color = 'green' size = '3'><b> We have created a function to get the latitude and longitude values and then map to the corresponding boroughs as per the boundary coordinates.<br>"
   ]
  },
  {
   "cell_type": "markdown",
   "metadata": {
    "colab_type": "text",
    "id": "T4N7mXdlTb3Y"
   },
   "source": [
    "## Exploratory Data Analysis"
   ]
  },
  {
   "cell_type": "markdown",
   "metadata": {
    "colab_type": "text",
    "id": "UK7NgAp4Tb3Z"
   },
   "source": [
    "<font color = 'green' size = '3'><b> 1. Which are Top 5 Bike Stations by Number of Starts?"
   ]
  },
  {
   "cell_type": "code",
   "execution_count": 0,
   "metadata": {
    "colab": {},
    "colab_type": "code",
    "id": "R5TJdgf-Tb3Z"
   },
   "outputs": [],
   "source": [
    "top5 = pd.DataFrame() \n",
    "top5['Station']=df['start station name'].value_counts().head().index\n",
    "top5['Number of Starts']=df['start station name'].value_counts().head().values\n",
    "top5['Station'] = top5['Station'].cat.remove_unused_categories()\n",
    "top5['Station'] = top5['Station'].astype('object')"
   ]
  },
  {
   "cell_type": "code",
   "execution_count": 0,
   "metadata": {
    "colab": {},
    "colab_type": "code",
    "id": "YnqnJWjJTb3c",
    "outputId": "a271b492-348c-4c9f-f9e8-a9347a0c5f75"
   },
   "outputs": [
    {
     "data": {
      "image/png": "[encoded data removed]",
      "text/plain": [
       "<Figure size 432x288 with 1 Axes>"
      ]
     },
     "metadata": {
      "needs_background": "light",
      "tags": []
     },
     "output_type": "display_data"
    }
   ],
   "source": [
    "ax = sns.barplot('Station', 'Number of Starts', data = top5, palette=\"RdBu\")\n",
    "ax.set_title('Top 5 Citi Bike Stations by Number of Starts', fontsize = 12)\n",
    "ax.set_xticklabels(ax.get_xticklabels(),rotation=40, ha = 'right')\n",
    "for index, row in top5.iterrows():\n",
    "    ax.text(index,row['Number of Starts']-4000,row['Number of Starts'], \n",
    "            color='white', ha=\"center\", fontsize = 10)\n",
    "plt.show()"
   ]
  },
  {
   "cell_type": "markdown",
   "metadata": {
    "colab_type": "text",
    "id": "Sz1s6akhTb3e"
   },
   "source": [
    "<font color = 'green' size = '3'><b> From the above plot, we can determine that Pershing Square North is the highest used start station."
   ]
  },
  {
   "cell_type": "code",
   "execution_count": 0,
   "metadata": {
    "colab": {},
    "colab_type": "code",
    "id": "2lGxZwhQTb3e"
   },
   "outputs": [],
   "source": [
    "import folium\n",
    "from folium import FeatureGroup, LayerControl, Map, Marker\n",
    "from folium.plugins import HeatMap\n",
    "from folium.plugins import TimestampedGeoJson\n",
    "from folium.plugins import MarkerCluster"
   ]
  },
  {
   "cell_type": "code",
   "execution_count": 0,
   "metadata": {
    "colab": {},
    "colab_type": "code",
    "id": "LApExbaDTb3g",
    "outputId": "534b08ee-92f6-4b53-b6ef-7218b7ac4f1e",
    "scrolled": true
   },
   "outputs": [
    {
     "data": {
      "text/html": [
       "<div style=\"width:100%;\"><div style=\"position:relative;width:100%;height:0;padding-bottom:60%;\"><iframe src=\"data:text/html;charset=utf-8;base64,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\" style=\"position:absolute;width:100%;height:100%;left:0;top:0;border:none !important;\" allowfullscreen webkitallowfullscreen mozallowfullscreen></iframe></div></div>"
      ],
      "text/plain": [
       "<folium.folium.Map at 0x7ffa0e7f12e8>"
      ]
     },
     "execution_count": 50,
     "metadata": {
      "tags": []
     },
     "output_type": "execute_result"
    }
   ],
   "source": [
    "Top5 = pd.DataFrame({\n",
    "'lat':[40.7520,40.7348005,40.7171,40.7181203,40.7502803],\n",
    "'lon':[-73.9778,-73.9929213,-74.0126,-74.0215772,-73.9970209]}\n",
    ")\n",
    "name = ['Pershing Square North', 'Broadway & E 14 St','West St & Chambers St','E 17 St & Broadway','8 Ave & W 31 St']\n",
    "location = pd.DataFrame({'name': name\n",
    "})\n",
    "Top5_list = Top5.values.tolist()\n",
    "m = folium.Map(location = (40.750996996,-73.973162774), zoom_start = 10)\n",
    "\n",
    "for i in range(0, len(Top5_list)):\n",
    "    folium.Marker(Top5_list[i], popup = location['name'][i]).add_to(m)\n",
    "\n",
    "m"
   ]
  },
  {
   "cell_type": "markdown",
   "metadata": {
    "colab_type": "text",
    "id": "ndectvgNTb3h"
   },
   "source": [
    "<font color = 'green' size = '3'><b> 2. Which are the Most Popular Trips?</font>"
   ]
  },
  {
   "cell_type": "code",
   "execution_count": 0,
   "metadata": {
    "colab": {},
    "colab_type": "code",
    "id": "zNC727LCTb3h"
   },
   "outputs": [],
   "source": [
    "trips_df = pd.DataFrame()\n",
    "trips_df = df.groupby(['start station name','end station name']).size().reset_index(name = 'Number of Trips')\n",
    "trips_df = trips_df.sort_values('Number of Trips', ascending = False)\n",
    "trips_df[\"start station name\"] = trips_df[\"start station name\"].astype(str)\n",
    "trips_df[\"end station name\"] = trips_df[\"end station name\"].astype(str)\n",
    "trips_df[\"Trip\"] = trips_df[\"start station name\"] + \" to \" + trips_df[\"end station name\"]\n",
    "trips_df = trips_df[:10]\n",
    "trips_df = trips_df.drop(['start station name', \"end station name\"], axis = 1)\n",
    "trips_df = trips_df.reset_index()\n",
    "#trips_df.head()"
   ]
  },
  {
   "cell_type": "code",
   "execution_count": 0,
   "metadata": {
    "colab": {},
    "colab_type": "code",
    "id": "au6qDQcTTb3j",
    "outputId": "b0e0f802-42d2-438f-d407-4b3be6b0eab3"
   },
   "outputs": [
    {
     "data": {
      "image/png": "[encoded data removed]",
      "text/plain": [
       "<Figure size 432x288 with 1 Axes>"
      ]
     },
     "metadata": {
      "needs_background": "light",
      "tags": []
     },
     "output_type": "display_data"
    }
   ],
   "source": [
    "ax4 = sns.barplot('Number of Trips','Trip', data = trips_df,palette=\"Blues_d\")\n",
    "ax4.set_title('Most Popular Trips', fontsize = 20)\n",
    "ax4.set_ylabel(\"Trip\",fontsize=16)\n",
    "ax4.set_xlabel(\"Number of Trips\",fontsize=16)\n",
    "for index, row in trips_df.iterrows():\n",
    "    ax4.text(row['Number of Trips']-10,index,row['Number of Trips'], \n",
    "             color='white', ha=\"center\",fontsize = 10)\n",
    "plt.show()"
   ]
  },
  {
   "cell_type": "markdown",
   "metadata": {
    "colab_type": "text",
    "id": "WZk6zqzyTb3l"
   },
   "source": [
    "<font color = 'green' size = '3'><b>3. Which borough has the highest service usage?"
   ]
  },
  {
   "cell_type": "code",
   "execution_count": 0,
   "metadata": {
    "colab": {},
    "colab_type": "code",
    "id": "Ucqb9Yr7Tb3m",
    "outputId": "6b2536b6-630a-4602-9995-c83f164cfa83",
    "scrolled": true
   },
   "outputs": [
    {
     "data": {
      "text/plain": [
       "<matplotlib.axes._subplots.AxesSubplot at 0x7ffa0e8346d8>"
      ]
     },
     "execution_count": 53,
     "metadata": {
      "tags": []
     },
     "output_type": "execute_result"
    },
    {
     "data": {
      "image/png": "[encoded data removed]",
      "text/plain": [
       "<Figure size 432x288 with 1 Axes>"
      ]
     },
     "metadata": {
      "needs_background": "light",
      "tags": []
     },
     "output_type": "display_data"
    }
   ],
   "source": [
    "sns.countplot(df['pickup_borough'])"
   ]
  },
  {
   "cell_type": "markdown",
   "metadata": {
    "colab_type": "text",
    "id": "9f9SHxICTb3o"
   },
   "source": [
    "<font color = 'green' size = '3'><b> From the above plot, we see that <b> Manhattan </b> has the highest service usage."
   ]
  },
  {
   "cell_type": "markdown",
   "metadata": {
    "colab_type": "text",
    "id": "lO4fNRQ_Tb3o"
   },
   "source": [
    "<font color = 'green' size = '3'><b>4. How long are most of the users travelling?"
   ]
  },
  {
   "cell_type": "markdown",
   "metadata": {
    "colab_type": "text",
    "id": "NmZcJkqgTb3p"
   },
   "source": [
    "<font color = 'green' size = '3'><b> We have binned the trip duration to - Normal trips(0-30 mins),Extended Trips(31 - 60 mins) and Long trips(61-max).<br>"
   ]
  },
  {
   "cell_type": "code",
   "execution_count": 0,
   "metadata": {
    "colab": {},
    "colab_type": "code",
    "id": "vfQ49SIKTb3p"
   },
   "outputs": [],
   "source": [
    "bins = [df['tripduration'].min(),30,60,df['tripduration'].max()]\n",
    "labels=['Normal trips','Extended Trips','Long Trips']\n",
    "df['trip_duration_type'] = pd.cut(df.age,bins,labels=labels)"
   ]
  },
  {
   "cell_type": "code",
   "execution_count": 0,
   "metadata": {
    "colab": {},
    "colab_type": "code",
    "id": "Eh7ZiEw_Tb3r",
    "outputId": "d95e8794-266d-4775-9eea-fccc03bac340"
   },
   "outputs": [
    {
     "data": {
      "text/plain": [
       "<matplotlib.axes._subplots.AxesSubplot at 0x7ff9eab8fe48>"
      ]
     },
     "execution_count": 55,
     "metadata": {
      "tags": []
     },
     "output_type": "execute_result"
    },
    {
     "data": {
      "image/png": "[encoded data removed]",
      "text/plain": [
       "<Figure size 432x288 with 1 Axes>"
      ]
     },
     "metadata": {
      "needs_background": "light",
      "tags": []
     },
     "output_type": "display_data"
    }
   ],
   "source": [
    "sns.countplot(df['trip_duration_type'])"
   ]
  },
  {
   "cell_type": "markdown",
   "metadata": {
    "colab_type": "text",
    "id": "pmFJaZJETb3u"
   },
   "source": [
    "<font color = 'green' size = '3'><b>Based on the above plot, we have <b>Extended trips</b> as the highest usage.<br>"
   ]
  },
  {
   "cell_type": "markdown",
   "metadata": {
    "colab_type": "text",
    "id": "CaFFyUkATb3v"
   },
   "source": [
    "<font color = 'green' size = '3'><b>5. Which gender uses the service adequately?"
   ]
  },
  {
   "cell_type": "code",
   "execution_count": 0,
   "metadata": {
    "colab": {},
    "colab_type": "code",
    "id": "prVlutYvTb3v",
    "outputId": "a5d81aad-b44c-46be-e7f2-7824fe58ee20"
   },
   "outputs": [
    {
     "data": {
      "text/plain": [
       "<matplotlib.axes._subplots.AxesSubplot at 0x7ff9fc7bc438>"
      ]
     },
     "execution_count": 56,
     "metadata": {
      "tags": []
     },
     "output_type": "execute_result"
    },
    {
     "data": {
      "image/png": "[encoded data removed]",
      "text/plain": [
       "<Figure size 432x288 with 1 Axes>"
      ]
     },
     "metadata": {
      "needs_background": "light",
      "tags": []
     },
     "output_type": "display_data"
    }
   ],
   "source": [
    "sns.countplot(df['gender'])"
   ]
  },
  {
   "cell_type": "markdown",
   "metadata": {
    "colab_type": "text",
    "id": "nHmeQIJdTb3w"
   },
   "source": [
    "<font color = 'green' size = '3'>From the above plot it can be seen that <b>\"Male\"</b> use the service more adequately"
   ]
  },
  {
   "cell_type": "markdown",
   "metadata": {
    "colab_type": "text",
    "id": "jppV4iUBTb3x"
   },
   "source": [
    "<font color = 'green' size = '3'><b>6. Which age group has highest usage?"
   ]
  },
  {
   "cell_type": "code",
   "execution_count": 0,
   "metadata": {
    "colab": {},
    "colab_type": "code",
    "id": "MYske4uiTb3x"
   },
   "outputs": [],
   "source": [
    "bins = [df['age'].min(),30,45,df['age'].max()]\n",
    "\n",
    "labels=['Young Adults','Middle Aged Adults','Old Adults']\n",
    "df['age_group'] = pd.cut(df.age,bins,labels=labels)"
   ]
  },
  {
   "cell_type": "markdown",
   "metadata": {
    "colab_type": "text",
    "id": "pVi2ZumgTb30"
   },
   "source": [
    "<font color = 'green' size = '3'><b>To analyze the highest usage based on age groups, we have binned the featured engineered column \"age\" into three sub-age groups namely: between min age to 30 as Young Adults, between 31 to 45 as Middle Age Adults and between 46 to max-age as Old Adults."
   ]
  },
  {
   "cell_type": "code",
   "execution_count": 0,
   "metadata": {
    "colab": {},
    "colab_type": "code",
    "id": "eyuojmptTb32",
    "outputId": "8da7e679-8323-4bf6-f910-21572b0751eb"
   },
   "outputs": [
    {
     "data": {
      "text/html": [
       "<div>\n",
       "<style scoped>\n",
       "    .dataframe tbody tr th:only-of-type {\n",
       "        vertical-align: middle;\n",
       "    }\n",
       "\n",
       "    .dataframe tbody tr th {\n",
       "        vertical-align: top;\n",
       "    }\n",
       "\n",
       "    .dataframe thead th {\n",
       "        text-align: right;\n",
       "    }\n",
       "</style>\n",
       "<table border=\"1\" class=\"dataframe\">\n",
       "  <thead>\n",
       "    <tr style=\"text-align: right;\">\n",
       "      <th></th>\n",
       "      <th>tripduration</th>\n",
       "      <th>starttime</th>\n",
       "      <th>stoptime</th>\n",
       "      <th>start station id</th>\n",
       "      <th>start station name</th>\n",
       "      <th>start station latitude</th>\n",
       "      <th>start station longitude</th>\n",
       "      <th>end station id</th>\n",
       "      <th>end station name</th>\n",
       "      <th>end station latitude</th>\n",
       "      <th>...</th>\n",
       "      <th>bikeid</th>\n",
       "      <th>usertype</th>\n",
       "      <th>birth year</th>\n",
       "      <th>gender</th>\n",
       "      <th>trip_distance</th>\n",
       "      <th>age</th>\n",
       "      <th>pickup_borough</th>\n",
       "      <th>dropoff_borough</th>\n",
       "      <th>trip_duration_type</th>\n",
       "      <th>age_group</th>\n",
       "    </tr>\n",
       "  </thead>\n",
       "  <tbody>\n",
       "    <tr>\n",
       "      <th>0</th>\n",
       "      <td>5.450</td>\n",
       "      <td>00:02:00</td>\n",
       "      <td>05:29:03</td>\n",
       "      <td>3733</td>\n",
       "      <td>Avenue C &amp; E 18 St</td>\n",
       "      <td>40.730563</td>\n",
       "      <td>-73.973984</td>\n",
       "      <td>504</td>\n",
       "      <td>1 Ave &amp; E 16 St</td>\n",
       "      <td>40.732219</td>\n",
       "      <td>...</td>\n",
       "      <td>39213</td>\n",
       "      <td>Subscriber</td>\n",
       "      <td>1968</td>\n",
       "      <td>1</td>\n",
       "      <td>0.672115</td>\n",
       "      <td>51</td>\n",
       "      <td>manhattan</td>\n",
       "      <td>manhattan</td>\n",
       "      <td>Extended Trips</td>\n",
       "      <td>Old Adults</td>\n",
       "    </tr>\n",
       "    <tr>\n",
       "      <th>1</th>\n",
       "      <td>19.083</td>\n",
       "      <td>00:04:01</td>\n",
       "      <td>19:09:08</td>\n",
       "      <td>3329</td>\n",
       "      <td>Degraw St &amp; Smith St</td>\n",
       "      <td>40.682915</td>\n",
       "      <td>-73.993182</td>\n",
       "      <td>270</td>\n",
       "      <td>Adelphi St &amp; Myrtle Ave</td>\n",
       "      <td>40.693083</td>\n",
       "      <td>...</td>\n",
       "      <td>21257</td>\n",
       "      <td>Customer</td>\n",
       "      <td>1969</td>\n",
       "      <td>0</td>\n",
       "      <td>2.128793</td>\n",
       "      <td>50</td>\n",
       "      <td>manhattan</td>\n",
       "      <td>manhattan</td>\n",
       "      <td>Extended Trips</td>\n",
       "      <td>Old Adults</td>\n",
       "    </tr>\n",
       "    <tr>\n",
       "      <th>2</th>\n",
       "      <td>21.550</td>\n",
       "      <td>00:07:03</td>\n",
       "      <td>21:40:08</td>\n",
       "      <td>3168</td>\n",
       "      <td>Central Park West &amp; W 85 St</td>\n",
       "      <td>40.784727</td>\n",
       "      <td>-73.969617</td>\n",
       "      <td>423</td>\n",
       "      <td>W 54 St &amp; 9 Ave</td>\n",
       "      <td>40.765849</td>\n",
       "      <td>...</td>\n",
       "      <td>15242</td>\n",
       "      <td>Customer</td>\n",
       "      <td>1969</td>\n",
       "      <td>0</td>\n",
       "      <td>2.554454</td>\n",
       "      <td>50</td>\n",
       "      <td>manhattan</td>\n",
       "      <td>manhattan</td>\n",
       "      <td>Extended Trips</td>\n",
       "      <td>Old Adults</td>\n",
       "    </tr>\n",
       "    <tr>\n",
       "      <th>3</th>\n",
       "      <td>29.217</td>\n",
       "      <td>00:08:01</td>\n",
       "      <td>05:21:05</td>\n",
       "      <td>3299</td>\n",
       "      <td>E 98 St &amp; Park Ave</td>\n",
       "      <td>40.788130</td>\n",
       "      <td>-73.952060</td>\n",
       "      <td>3160</td>\n",
       "      <td>Central Park West &amp; W 76 St</td>\n",
       "      <td>40.778968</td>\n",
       "      <td>...</td>\n",
       "      <td>38760</td>\n",
       "      <td>Subscriber</td>\n",
       "      <td>1990</td>\n",
       "      <td>1</td>\n",
       "      <td>2.090950</td>\n",
       "      <td>29</td>\n",
       "      <td>manhattan</td>\n",
       "      <td>manhattan</td>\n",
       "      <td>Normal trips</td>\n",
       "      <td>Young Adults</td>\n",
       "    </tr>\n",
       "    <tr>\n",
       "      <th>4</th>\n",
       "      <td>10.217</td>\n",
       "      <td>00:12:09</td>\n",
       "      <td>10:26:02</td>\n",
       "      <td>486</td>\n",
       "      <td>Broadway &amp; W 29 St</td>\n",
       "      <td>40.746201</td>\n",
       "      <td>-73.988557</td>\n",
       "      <td>478</td>\n",
       "      <td>11 Ave &amp; W 41 St</td>\n",
       "      <td>40.760301</td>\n",
       "      <td>...</td>\n",
       "      <td>32094</td>\n",
       "      <td>Subscriber</td>\n",
       "      <td>1992</td>\n",
       "      <td>1</td>\n",
       "      <td>1.791288</td>\n",
       "      <td>27</td>\n",
       "      <td>manhattan</td>\n",
       "      <td>manhattan</td>\n",
       "      <td>Normal trips</td>\n",
       "      <td>Young Adults</td>\n",
       "    </tr>\n",
       "  </tbody>\n",
       "</table>\n",
       "<p>5 rows × 21 columns</p>\n",
       "</div>"
      ],
      "text/plain": [
       "   tripduration starttime stoptime  start station id  \\\n",
       "0         5.450  00:02:00 05:29:03              3733   \n",
       "1        19.083  00:04:01 19:09:08              3329   \n",
       "2        21.550  00:07:03 21:40:08              3168   \n",
       "3        29.217  00:08:01 05:21:05              3299   \n",
       "4        10.217  00:12:09 10:26:02               486   \n",
       "\n",
       "            start station name  start station latitude  \\\n",
       "0           Avenue C & E 18 St               40.730563   \n",
       "1         Degraw St & Smith St               40.682915   \n",
       "2  Central Park West & W 85 St               40.784727   \n",
       "3           E 98 St & Park Ave               40.788130   \n",
       "4           Broadway & W 29 St               40.746201   \n",
       "\n",
       "   start station longitude  end station id             end station name  \\\n",
       "0               -73.973984             504              1 Ave & E 16 St   \n",
       "1               -73.993182             270      Adelphi St & Myrtle Ave   \n",
       "2               -73.969617             423              W 54 St & 9 Ave   \n",
       "3               -73.952060            3160  Central Park West & W 76 St   \n",
       "4               -73.988557             478             11 Ave & W 41 St   \n",
       "\n",
       "   end station latitude  ...  bikeid    usertype birth year  gender  \\\n",
       "0             40.732219  ...   39213  Subscriber       1968       1   \n",
       "1             40.693083  ...   21257    Customer       1969       0   \n",
       "2             40.765849  ...   15242    Customer       1969       0   \n",
       "3             40.778968  ...   38760  Subscriber       1990       1   \n",
       "4             40.760301  ...   32094  Subscriber       1992       1   \n",
       "\n",
       "  trip_distance  age  pickup_borough dropoff_borough trip_duration_type  \\\n",
       "0      0.672115   51       manhattan       manhattan     Extended Trips   \n",
       "1      2.128793   50       manhattan       manhattan     Extended Trips   \n",
       "2      2.554454   50       manhattan       manhattan     Extended Trips   \n",
       "3      2.090950   29       manhattan       manhattan       Normal trips   \n",
       "4      1.791288   27       manhattan       manhattan       Normal trips   \n",
       "\n",
       "      age_group  \n",
       "0    Old Adults  \n",
       "1    Old Adults  \n",
       "2    Old Adults  \n",
       "3  Young Adults  \n",
       "4  Young Adults  \n",
       "\n",
       "[5 rows x 21 columns]"
      ]
     },
     "execution_count": 58,
     "metadata": {
      "tags": []
     },
     "output_type": "execute_result"
    }
   ],
   "source": [
    "df.head()"
   ]
  },
  {
   "cell_type": "code",
   "execution_count": 0,
   "metadata": {
    "colab": {},
    "colab_type": "code",
    "id": "cUtH0-LnTb36",
    "outputId": "887a6a43-0355-41e1-ac70-60fcdcb8c32c"
   },
   "outputs": [
    {
     "data": {
      "text/plain": [
       "<matplotlib.axes._subplots.AxesSubplot at 0x7ffa0e765828>"
      ]
     },
     "execution_count": 59,
     "metadata": {
      "tags": []
     },
     "output_type": "execute_result"
    },
    {
     "data": {
      "image/png": "[encoded data removed]",
      "text/plain": [
       "<Figure size 432x288 with 1 Axes>"
      ]
     },
     "metadata": {
      "needs_background": "light",
      "tags": []
     },
     "output_type": "display_data"
    }
   ],
   "source": [
    "sns.countplot(df['age_group'])"
   ]
  },
  {
   "cell_type": "markdown",
   "metadata": {
    "colab_type": "text",
    "id": "VgBvFmzPTb37"
   },
   "source": [
    "<font color = 'green' size = '3'><b>From the above plot it can be seen that the <b>Middle aged adults</b> have the highest usage of the bikeshare service "
   ]
  },
  {
   "cell_type": "markdown",
   "metadata": {
    "colab_type": "text",
    "id": "GttuXv_fTb38"
   },
   "source": [
    "<font color = 'green' size = '3'><b>7. What is the average Trip Duration based on User Type (with anomalies)?<br>"
   ]
  },
  {
   "cell_type": "code",
   "execution_count": 0,
   "metadata": {
    "colab": {},
    "colab_type": "code",
    "id": "3NY848h4Tb38"
   },
   "outputs": [],
   "source": [
    "TD_user = pd.DataFrame()\n",
    "TD_user['avg trip duration'] = round(df.groupby('usertype')['tripduration'].mean(),2)\n",
    "TD_user = TD_user.reset_index()\n",
    "TD_user['usertype'] = TD_user['usertype'].astype('object')"
   ]
  },
  {
   "cell_type": "code",
   "execution_count": 0,
   "metadata": {
    "colab": {},
    "colab_type": "code",
    "id": "8xS_48N_Tb3-",
    "outputId": "469321a4-303a-46f2-de0d-f8fa1ffa78d6"
   },
   "outputs": [
    {
     "data": {
      "image/png": "[encoded data removed]",
      "text/plain": [
       "<Figure size 432x288 with 1 Axes>"
      ]
     },
     "metadata": {
      "needs_background": "light",
      "tags": []
     },
     "output_type": "display_data"
    }
   ],
   "source": [
    "ax2 = sns.barplot('usertype', 'avg trip duration', data = TD_user,palette=\"coolwarm\")\n",
    "ax2.set_title('Average Trip Duration by User Type (with anomalies)')\n",
    "#rcParams['figure.figsize'] = 12,7\n",
    "ax2.set_xticklabels(ax2.get_xticklabels(),rotation=40, ha = 'right')\n",
    "ax2.set_ylabel('Avg. Trip Duration (Seconds)')\n",
    "for index, row in TD_user.iterrows():\n",
    "    ax2.text(index,row['avg trip duration']-70,(str(row['avg trip duration'])+\"  Seconds\"), \n",
    "             color='white', ha=\"center\", fontsize = 10)\n",
    "plt.show()"
   ]
  },
  {
   "cell_type": "markdown",
   "metadata": {
    "colab_type": "text",
    "id": "l3omA4jITb4A"
   },
   "source": [
    "<font color = 'green' size = '3'><b>8. Which type of users has high trip duration?"
   ]
  },
  {
   "cell_type": "code",
   "execution_count": 0,
   "metadata": {
    "colab": {},
    "colab_type": "code",
    "id": "YIdJEyxDTb4A",
    "outputId": "fe049353-07c7-4098-89b9-4160e668989d"
   },
   "outputs": [
    {
     "data": {
      "text/plain": [
       "<matplotlib.axes._subplots.AxesSubplot at 0x7ffa0e74fa90>"
      ]
     },
     "execution_count": 62,
     "metadata": {
      "tags": []
     },
     "output_type": "execute_result"
    },
    {
     "data": {
      "image/png": "[encoded data removed]",
      "text/plain": [
       "<Figure size 432x288 with 1 Axes>"
      ]
     },
     "metadata": {
      "needs_background": "light",
      "tags": []
     },
     "output_type": "display_data"
    }
   ],
   "source": [
    "sns.countplot(df['usertype'], hue = df['trip_duration_type'])"
   ]
  },
  {
   "cell_type": "markdown",
   "metadata": {
    "colab_type": "text",
    "id": "qJR7sbM5Tb4D"
   },
   "source": [
    "<font color = 'green' size = '3'> <b>Subscriber</b> has the highest trip duration."
   ]
  },
  {
   "cell_type": "markdown",
   "metadata": {
    "colab_type": "text",
    "id": "NSu7XehrTb4G"
   },
   "source": [
    "### MACHINE LEARNING"
   ]
  },
  {
   "cell_type": "code",
   "execution_count": 0,
   "metadata": {
    "colab": {},
    "colab_type": "code",
    "id": "bMUUdwITTb4H",
    "outputId": "da78948b-7f65-48b0-e9cc-6626df50fb94"
   },
   "outputs": [
    {
     "data": {
      "text/plain": [
       "Index(['tripduration', 'starttime', 'stoptime', 'start station id',\n",
       "       'start station name', 'start station latitude',\n",
       "       'start station longitude', 'end station id', 'end station name',\n",
       "       'end station latitude', 'end station longitude', 'bikeid', 'usertype',\n",
       "       'birth year', 'gender', 'trip_distance', 'age', 'pickup_borough',\n",
       "       'dropoff_borough', 'trip_duration_type', 'age_group'],\n",
       "      dtype='object')"
      ]
     },
     "execution_count": 63,
     "metadata": {
      "tags": []
     },
     "output_type": "execute_result"
    }
   ],
   "source": [
    "df.columns"
   ]
  },
  {
   "cell_type": "code",
   "execution_count": 0,
   "metadata": {
    "colab": {},
    "colab_type": "code",
    "id": "3jMX6-RIpJMn"
   },
   "outputs": [],
   "source": [
    "col = ['tripduration','start station latitude','start station longitude','end station latitude', 'end station longitude']\n",
    "\n",
    "X = df[col]\n",
    "y = df['usertype']"
   ]
  },
  {
   "cell_type": "markdown",
   "metadata": {
    "colab_type": "text",
    "id": "qqiMOhu0Tb4L"
   },
   "source": [
    "## PIPELINING ENSEMBLE LEARNING"
   ]
  },
  {
   "cell_type": "code",
   "execution_count": 0,
   "metadata": {
    "colab": {},
    "colab_type": "code",
    "id": "Py38RagWpdqf"
   },
   "outputs": [],
   "source": [
    "cart_clf = DecisionTreeClassifier()\n",
    "rand_clf = RandomForestClassifier(n_estimators=100)\n",
    "bag_clf = BaggingClassifier(base_estimator=cart_clf)\n",
    "ada_clf = AdaBoostClassifier(n_estimators=100)\n",
    "grad_clf = GradientBoostingClassifier(learning_rate = 0.01)"
   ]
  },
  {
   "cell_type": "code",
   "execution_count": 0,
   "metadata": {
    "colab": {},
    "colab_type": "code",
    "id": "6sWTrIGG6d2v"
   },
   "outputs": [],
   "source": [
    "X_train, X_test, y_train, y_test = train_test_split(X, y, test_size = 0.25)"
   ]
  },
  {
   "cell_type": "code",
   "execution_count": 0,
   "metadata": {
    "colab": {},
    "colab_type": "code",
    "id": "hcOe5WF8Tb4O"
   },
   "outputs": [],
   "source": [
    "classifiers = [\n",
    "    RandomForestClassifier(300),\n",
    "    DecisionTreeClassifier(),\n",
    "    BaggingClassifier(),\n",
    "    AdaBoostClassifier(),\n",
    "    GradientBoostingClassifier()]\n",
    "for clf in classifiers:\n",
    "    steps = [('clf', clf)]\n",
    "    pipeline = Pipeline(steps)"
   ]
  },
  {
   "cell_type": "code",
   "execution_count": 0,
   "metadata": {
    "colab": {},
    "colab_type": "code",
    "id": "qBfQ9UnxTb4P",
    "outputId": "663e5f42-1451-45f5-9133-4c6ef743d489"
   },
   "outputs": [
    {
     "name": "stdout",
     "output_type": "stream",
     "text": [
      "0.8452566086606081\n"
     ]
    }
   ],
   "source": [
    "from sklearn.model_selection import KFold\n",
    "from sklearn.model_selection import cross_val_score\n",
    "kfold = KFold(n_splits=5)\n",
    "results = cross_val_score(pipeline, X_train, y_train, cv=kfold)\n",
    "print(results.mean())"
   ]
  },
  {
   "cell_type": "code",
   "execution_count": 0,
   "metadata": {
    "colab": {},
    "colab_type": "code",
    "id": "Irwxa_rHTb4R",
    "outputId": "84dad914-3ef0-4355-ae89-d35c9f4c24f1"
   },
   "outputs": [
    {
     "data": {
      "text/plain": [
       "Pipeline(memory=None,\n",
       "         steps=[('clf',\n",
       "                 GradientBoostingClassifier(criterion='friedman_mse', init=None,\n",
       "                                            learning_rate=0.1, loss='deviance',\n",
       "                                            max_depth=3, max_features=None,\n",
       "                                            max_leaf_nodes=None,\n",
       "                                            min_impurity_decrease=0.0,\n",
       "                                            min_impurity_split=None,\n",
       "                                            min_samples_leaf=1,\n",
       "                                            min_samples_split=2,\n",
       "                                            min_weight_fraction_leaf=0.0,\n",
       "                                            n_estimators=100,\n",
       "                                            n_iter_no_change=None,\n",
       "                                            presort='auto', random_state=None,\n",
       "                                            subsample=1.0, tol=0.0001,\n",
       "                                            validation_fraction=0.1, verbose=0,\n",
       "                                            warm_start=False))],\n",
       "         verbose=False)"
      ]
     },
     "execution_count": 89,
     "metadata": {
      "tags": []
     },
     "output_type": "execute_result"
    }
   ],
   "source": [
    "pipeline.fit(X_train, y_train)"
   ]
  },
  {
   "cell_type": "code",
   "execution_count": 0,
   "metadata": {
    "colab": {},
    "colab_type": "code",
    "id": "uUbtraioTb4T"
   },
   "outputs": [],
   "source": [
    "predictions = pipeline.predict(X_test)"
   ]
  },
  {
   "cell_type": "code",
   "execution_count": 0,
   "metadata": {
    "colab": {},
    "colab_type": "code",
    "id": "FMjS8y6eTb4W",
    "outputId": "a3afdf12-2a78-4636-8556-434c97a6cac1"
   },
   "outputs": [
    {
     "name": "stdout",
     "output_type": "stream",
     "text": [
      "              precision    recall  f1-score   support\n",
      "\n",
      "    Customer       0.72      0.14      0.23     44094\n",
      "  Subscriber       0.85      0.99      0.91    218050\n",
      "\n",
      "    accuracy                           0.85    262144\n",
      "   macro avg       0.78      0.56      0.57    262144\n",
      "weighted avg       0.83      0.85      0.80    262144\n",
      "\n"
     ]
    }
   ],
   "source": [
    "print(classification_report(y_test, predictions))"
   ]
  },
  {
   "cell_type": "code",
   "execution_count": 0,
   "metadata": {
    "colab": {},
    "colab_type": "code",
    "id": "pUNtNzqfTb4Y",
    "outputId": "0fb5a328-43a8-43ef-9e62-6f97cac743da"
   },
   "outputs": [
    {
     "name": "stdout",
     "output_type": "stream",
     "text": [
      "[[  6047  38047]\n",
      " [  2400 215650]]\n"
     ]
    }
   ],
   "source": [
    "print(confusion_matrix(y_test, predictions))"
   ]
  },
  {
   "cell_type": "code",
   "execution_count": 0,
   "metadata": {
    "colab": {},
    "colab_type": "code",
    "id": "DdF3UcvaTb4a",
    "outputId": "94d382d2-8749-4c68-813c-3a96d1b56ffc"
   },
   "outputs": [
    {
     "name": "stdout",
     "output_type": "stream",
     "text": [
      "0.8457069396972656\n"
     ]
    }
   ],
   "source": [
    "print(accuracy_score(y_test, predictions))"
   ]
  },
  {
   "cell_type": "markdown",
   "metadata": {},
   "source": [
    "## ARTIFICIAL NEURAL NETWORK"
   ]
  },
  {
   "cell_type": "code",
   "execution_count": 0,
   "metadata": {
    "colab": {},
    "colab_type": "code",
    "id": "KCrf35aWqwh-"
   },
   "outputs": [],
   "source": [
    "cont_cols = ['tripduration','start station latitude','start station longitude','end station latitude','end station longitude', 'trip_distance']\n",
    "y_cols = ['usertype']"
   ]
  },
  {
   "cell_type": "code",
   "execution_count": 0,
   "metadata": {
    "colab": {},
    "colab_type": "code",
    "id": "7CrvoNt4rq-E"
   },
   "outputs": [],
   "source": [
    "cont = np.stack([df[col].values for col in cont_cols], axis = 1)"
   ]
  },
  {
   "cell_type": "code",
   "execution_count": 0,
   "metadata": {
    "colab": {},
    "colab_type": "code",
    "id": "CQE-Sh2PsNI3"
   },
   "outputs": [],
   "source": [
    "X = torch.tensor(cont, dtype = torch.float)"
   ]
  },
  {
   "cell_type": "code",
   "execution_count": 0,
   "metadata": {
    "colab": {},
    "colab_type": "code",
    "id": "haNSVPvFgp3Z"
   },
   "outputs": [],
   "source": [
    "df['usertype'] = df['usertype'].astype('category')"
   ]
  },
  {
   "cell_type": "code",
   "execution_count": 63,
   "metadata": {
    "colab": {
     "base_uri": "https://localhost:8080/",
     "height": 136
    },
    "colab_type": "code",
    "id": "VQeXwQEMsN6K",
    "outputId": "1ea6ef0a-07a8-4a7a-936f-c8e8191ae4d8"
   },
   "outputs": [
    {
     "data": {
      "text/plain": [
       "0    Subscriber\n",
       "1      Customer\n",
       "2      Customer\n",
       "3    Subscriber\n",
       "4    Subscriber\n",
       "Name: usertype, dtype: category\n",
       "Categories (2, object): [Customer, Subscriber]"
      ]
     },
     "execution_count": 63,
     "metadata": {
      "tags": []
     },
     "output_type": "execute_result"
    }
   ],
   "source": [
    "df['usertype'].head()"
   ]
  },
  {
   "cell_type": "code",
   "execution_count": 0,
   "metadata": {
    "colab": {},
    "colab_type": "code",
    "id": "ywfR3q64sauV"
   },
   "outputs": [],
   "source": [
    "y_col = np.stack([df['usertype'].cat.codes.values], axis = 1).reshape(-1,1)"
   ]
  },
  {
   "cell_type": "code",
   "execution_count": 65,
   "metadata": {
    "colab": {
     "base_uri": "https://localhost:8080/",
     "height": 136
    },
    "colab_type": "code",
    "id": "MJjFCXL9tKIp",
    "outputId": "ec9eb272-ed87-4ec8-a6bc-49362530167e"
   },
   "outputs": [
    {
     "data": {
      "text/plain": [
       "array([[1],\n",
       "       [0],\n",
       "       [0],\n",
       "       ...,\n",
       "       [1],\n",
       "       [0],\n",
       "       [0]], dtype=int8)"
      ]
     },
     "execution_count": 65,
     "metadata": {
      "tags": []
     },
     "output_type": "execute_result"
    }
   ],
   "source": [
    "y_col"
   ]
  },
  {
   "cell_type": "code",
   "execution_count": 0,
   "metadata": {
    "colab": {},
    "colab_type": "code",
    "id": "_T3QNQUhtgMU"
   },
   "outputs": [],
   "source": [
    "y = torch.tensor(y_col, dtype = torch.int64)"
   ]
  },
  {
   "cell_type": "code",
   "execution_count": 67,
   "metadata": {
    "colab": {
     "base_uri": "https://localhost:8080/",
     "height": 136
    },
    "colab_type": "code",
    "id": "vDo3ma_Zt3wt",
    "outputId": "f70f6a1d-6f2a-4917-dde9-390313d6e321"
   },
   "outputs": [
    {
     "data": {
      "text/plain": [
       "tensor([[1],\n",
       "        [0],\n",
       "        [0],\n",
       "        ...,\n",
       "        [1],\n",
       "        [0],\n",
       "        [0]])"
      ]
     },
     "execution_count": 67,
     "metadata": {
      "tags": []
     },
     "output_type": "execute_result"
    }
   ],
   "source": [
    "y"
   ]
  },
  {
   "cell_type": "code",
   "execution_count": 0,
   "metadata": {
    "colab": {},
    "colab_type": "code",
    "id": "SJZCT2M3t4Uz"
   },
   "outputs": [],
   "source": [
    "class TabularModel(nn.Module):\n",
    "\n",
    "  def __init__(self, n_cont,out_size,layers,p):\n",
    "\n",
    "    super().__init__()\n",
    "\n",
    "    self.emb_drop = nn.Dropout(p)\n",
    "    self.cont_norm = nn.BatchNorm1d(n_cont)\n",
    "\n",
    "    layerlist = []\n",
    "\n",
    "    for i in layers:\n",
    "      layerlist.append(nn.Linear(n_cont,i))\n",
    "      layerlist.append(nn.ReLU(inplace = True))\n",
    "      layerlist.append(nn.BatchNorm1d(i))\n",
    "      layerlist.append(nn.Dropout(p))\n",
    "      n_cont = i\n",
    "    \n",
    "    layerlist.append(nn.Linear(layers[-1], out_size))\n",
    "\n",
    "    self.layers = nn.Sequential(*layerlist)\n",
    "\n",
    "  def forward(self, x_cont):\n",
    "\n",
    "    x_cont = self.emb_drop(x_cont)\n",
    "    x_cont = self.cont_norm(x_cont)\n",
    "    x_cont = self.layers(x_cont)\n",
    "    return x_cont"
   ]
  },
  {
   "cell_type": "code",
   "execution_count": 0,
   "metadata": {
    "colab": {},
    "colab_type": "code",
    "id": "Jpm6egR2yPDR"
   },
   "outputs": [],
   "source": [
    "model = TabularModel(X.shape[1], 2, [200,100,100,64], p = 0.4)"
   ]
  },
  {
   "cell_type": "code",
   "execution_count": 70,
   "metadata": {
    "colab": {
     "base_uri": "https://localhost:8080/",
     "height": 408
    },
    "colab_type": "code",
    "id": "XV5xXBNLymiH",
    "outputId": "4b59eab2-7be6-4a8c-e9b7-d7d99e429214"
   },
   "outputs": [
    {
     "data": {
      "text/plain": [
       "TabularModel(\n",
       "  (emb_drop): Dropout(p=0.4, inplace=False)\n",
       "  (cont_norm): BatchNorm1d(6, eps=1e-05, momentum=0.1, affine=True, track_running_stats=True)\n",
       "  (layers): Sequential(\n",
       "    (0): Linear(in_features=6, out_features=200, bias=True)\n",
       "    (1): ReLU(inplace=True)\n",
       "    (2): BatchNorm1d(200, eps=1e-05, momentum=0.1, affine=True, track_running_stats=True)\n",
       "    (3): Dropout(p=0.4, inplace=False)\n",
       "    (4): Linear(in_features=200, out_features=100, bias=True)\n",
       "    (5): ReLU(inplace=True)\n",
       "    (6): BatchNorm1d(100, eps=1e-05, momentum=0.1, affine=True, track_running_stats=True)\n",
       "    (7): Dropout(p=0.4, inplace=False)\n",
       "    (8): Linear(in_features=100, out_features=100, bias=True)\n",
       "    (9): ReLU(inplace=True)\n",
       "    (10): BatchNorm1d(100, eps=1e-05, momentum=0.1, affine=True, track_running_stats=True)\n",
       "    (11): Dropout(p=0.4, inplace=False)\n",
       "    (12): Linear(in_features=100, out_features=64, bias=True)\n",
       "    (13): ReLU(inplace=True)\n",
       "    (14): BatchNorm1d(64, eps=1e-05, momentum=0.1, affine=True, track_running_stats=True)\n",
       "    (15): Dropout(p=0.4, inplace=False)\n",
       "    (16): Linear(in_features=64, out_features=2, bias=True)\n",
       "  )\n",
       ")"
      ]
     },
     "execution_count": 70,
     "metadata": {
      "tags": []
     },
     "output_type": "execute_result"
    }
   ],
   "source": [
    "model"
   ]
  },
  {
   "cell_type": "code",
   "execution_count": 0,
   "metadata": {
    "colab": {},
    "colab_type": "code",
    "id": "YR_JQ9Lby7hO"
   },
   "outputs": [],
   "source": [
    "criterion = nn.CrossEntropyLoss()\n",
    "optimizer = torch.optim.Adam(model.parameters(), lr = 0.01)"
   ]
  },
  {
   "cell_type": "code",
   "execution_count": 0,
   "metadata": {
    "colab": {},
    "colab_type": "code",
    "id": "GJkLaiKNzJsb"
   },
   "outputs": [],
   "source": [
    "batch_size = 1048575\n",
    "test_size = int(batch_size * .2)\n",
    "\n",
    "X_train = X[:batch_size-test_size]\n",
    "X_test = X[batch_size-test_size:batch_size]\n",
    "y_train = y[:batch_size-test_size]\n",
    "y_test = y[batch_size-test_size:batch_size]"
   ]
  },
  {
   "cell_type": "code",
   "execution_count": 73,
   "metadata": {
    "colab": {
     "base_uri": "https://localhost:8080/",
     "height": 170
    },
    "colab_type": "code",
    "id": "5r9HQnN0zNer",
    "outputId": "08ce9746-6e93-40ff-cdfe-23231a1c585b"
   },
   "outputs": [
    {
     "name": "stdout",
     "output_type": "stream",
     "text": [
      "epoch:   1 loss: 0.77336037\n",
      "epoch:  26 loss: 0.46679673\n",
      "epoch:  51 loss: 0.43603057\n",
      "epoch:  76 loss: 0.42564711\n",
      "epoch: 101 loss: 0.42119685\n",
      "epoch: 126 loss: 0.41933882\n",
      "epoch: 150 loss: 0.41754082\n",
      "\n",
      " Duration: 12420 seconds\n"
     ]
    }
   ],
   "source": [
    "import time\n",
    "start_time = time.time()\n",
    "\n",
    "epochs = 150\n",
    "losses = []\n",
    "\n",
    "for i in range(epochs):\n",
    "  i+=1\n",
    "\n",
    "  y_pred = model(X_train)\n",
    "  y_train = y_train.squeeze_()\n",
    "  loss = criterion(y_pred, y_train)\n",
    "  losses.append(loss)\n",
    "\n",
    "  if i%25 == 1:\n",
    "    print(f'epoch: {i:3} loss: {loss.item():10.8f}')\n",
    "\n",
    "  \n",
    "  optimizer.zero_grad()\n",
    "  loss.backward()\n",
    "  optimizer.step()\n",
    "\n",
    "print(f'epoch: {i:3} loss: {loss.item():10.8f}')\n",
    "print(f'\\n Duration: {time.time() - start_time:.0f} seconds')"
   ]
  },
  {
   "cell_type": "code",
   "execution_count": 80,
   "metadata": {
    "colab": {
     "base_uri": "https://localhost:8080/",
     "height": 34
    },
    "colab_type": "code",
    "id": "8WG2lzMb0kz8",
    "outputId": "0149b364-12ff-49a4-d811-b272aa6ff70c"
   },
   "outputs": [
    {
     "name": "stdout",
     "output_type": "stream",
     "text": [
      "Cross Entropy Loss:  0.42420015\n"
     ]
    }
   ],
   "source": [
    "with torch.no_grad():\n",
    "  y_val = model(X_test)\n",
    "  y_test = y_test.squeeze(1)\n",
    "  loss = criterion(y_val, y_test)\n",
    "print(f'Cross Entropy Loss: {loss: .8f}')"
   ]
  },
  {
   "cell_type": "code",
   "execution_count": 84,
   "metadata": {
    "colab": {
     "base_uri": "https://localhost:8080/",
     "height": 1000
    },
    "colab_type": "code",
    "id": "i9wZQgXSdWuS",
    "outputId": "e2115e55-3a12-46b4-a627-e7eb4816eaeb"
   },
   "outputs": [
    {
     "name": "stdout",
     "output_type": "stream",
     "text": [
      "MODEL OUTPUT               ARGMAX  Y_TEST\n",
      "tensor([-0.7935,  0.8976])    1      1   \n",
      "tensor([-1.6111,  1.4376])    1      1   \n",
      "tensor([-0.9953,  0.7736])    1      1   \n",
      "tensor([-0.9668,  0.7237])    1      1   \n",
      "tensor([-1.6302,  1.0453])    1      1   \n",
      "tensor([-1.2865,  0.4181])    1      1   \n",
      "tensor([-1.1439,  0.5965])    1      1   \n",
      "tensor([-1.2192,  0.0680])    1      1   \n",
      "tensor([-1.0351,  0.7883])    1      1   \n",
      "tensor([-0.6283,  0.5460])    1      1   \n",
      "tensor([-0.9474,  0.8919])    1      1   \n",
      "tensor([-2.3113,  1.7767])    1      1   \n",
      "tensor([-1.4688,  0.7036])    1      1   \n",
      "tensor([-1.1784,  0.8295])    1      1   \n",
      "tensor([-0.9473,  0.6267])    1      1   \n",
      "tensor([-1.2349,  1.4307])    1      1   \n",
      "tensor([-1.2082,  0.8768])    1      1   \n",
      "tensor([-0.7176,  0.4895])    1      0   \n",
      "tensor([-0.6965,  0.6235])    1      1   \n",
      "tensor([-0.9857,  0.7418])    1      1   \n",
      "tensor([-1.2438,  0.7527])    1      1   \n",
      "tensor([-1.8809,  1.1945])    1      1   \n",
      "tensor([-1.5376,  1.0590])    1      1   \n",
      "tensor([-0.9360,  0.5888])    1      1   \n",
      "tensor([-1.1519,  1.1535])    1      1   \n",
      "tensor([-1.3233,  1.2296])    1      1   \n",
      "tensor([-1.2484,  0.4237])    1      1   \n",
      "tensor([-0.5400,  0.5201])    1      1   \n",
      "tensor([-0.4433,  0.5568])    1      1   \n",
      "tensor([ 0.0867, -0.0717])    0      1   \n",
      "tensor([-0.9902,  0.6678])    1      1   \n",
      "tensor([-1.3655,  1.0327])    1      1   \n",
      "tensor([-1.3207,  0.3483])    1      1   \n",
      "tensor([-0.2625,  0.5028])    1      1   \n",
      "tensor([-1.6246,  1.3305])    1      1   \n",
      "tensor([-0.9972,  0.8460])    1      0   \n",
      "tensor([-0.8726,  0.7366])    1      0   \n",
      "tensor([-1.2979,  1.0504])    1      1   \n",
      "tensor([-0.2850,  0.5060])    1      1   \n",
      "tensor([-1.0163,  0.9273])    1      1   \n",
      "tensor([-1.8327,  2.0949])    1      1   \n",
      "tensor([-0.3698,  0.1724])    1      1   \n",
      "tensor([-1.5876,  1.8709])    1      1   \n",
      "tensor([-1.0041,  0.3133])    1      1   \n",
      "tensor([-0.9453,  1.3592])    1      1   \n",
      "tensor([-1.4709,  1.1836])    1      1   \n",
      "tensor([-1.1737,  0.6366])    1      0   \n",
      "tensor([-1.2658,  1.6191])    1      1   \n",
      "tensor([-1.0966,  0.3567])    1      1   \n",
      "tensor([-1.4049, -0.0165])    1      1   \n",
      "tensor([-1.3983,  1.9814])    1      1   \n",
      "tensor([-1.2244,  0.6375])    1      1   \n",
      "tensor([-1.4951,  1.4078])    1      1   \n",
      "tensor([-1.0387,  0.9867])    1      1   \n",
      "tensor([-1.3555,  1.3063])    1      1   \n",
      "tensor([-1.4336,  0.9547])    1      1   \n",
      "tensor([-0.7965,  0.6085])    1      1   \n",
      "tensor([-1.5253,  1.3064])    1      1   \n",
      "tensor([-1.5943,  1.4877])    1      1   \n",
      "tensor([-0.8415,  1.6510])    1      1   \n",
      "tensor([-1.8585,  0.8962])    1      1   \n",
      "tensor([-1.0062,  0.6771])    1      1   \n",
      "tensor([-0.1993,  0.5164])    1      0   \n",
      "tensor([-1.0301,  0.6514])    1      0   \n",
      "tensor([-0.7224,  0.5860])    1      1   \n",
      "tensor([-0.5991,  0.5563])    1      1   \n",
      "tensor([-0.8885,  0.6868])    1      1   \n",
      "tensor([-1.6433,  1.4459])    1      1   \n",
      "tensor([-0.9951,  0.5533])    1      1   \n",
      "tensor([-0.5717,  0.4654])    1      1   \n",
      "tensor([-1.2051,  0.8453])    1      1   \n",
      "tensor([-0.3708,  0.4341])    1      1   \n",
      "tensor([-1.3592,  0.3838])    1      1   \n",
      "tensor([-0.6182,  0.6668])    1      1   \n",
      "tensor([-1.0166,  0.8745])    1      1   \n",
      "tensor([-1.5374,  1.5326])    1      1   \n",
      "tensor([-0.5300,  0.5974])    1      1   \n",
      "tensor([-1.2792,  0.4742])    1      1   \n",
      "tensor([-1.1564,  1.1790])    1      1   \n",
      "tensor([-0.6086,  0.7022])    1      1   \n",
      "tensor([-1.5454,  1.2096])    1      1   \n",
      "tensor([-1.0445,  0.3105])    1      1   \n",
      "tensor([-0.2467,  0.4262])    1      0   \n",
      "tensor([-0.9744,  0.7953])    1      1   \n",
      "tensor([-1.1017,  0.9983])    1      1   \n",
      "tensor([-0.8644,  0.7265])    1      1   \n",
      "tensor([-1.0114,  0.6741])    1      1   \n",
      "tensor([-1.2969,  0.6150])    1      1   \n",
      "tensor([-1.6280,  0.9610])    1      1   \n",
      "tensor([-1.1151,  0.7531])    1      1   \n",
      "tensor([-1.0652,  1.1357])    1      1   \n",
      "tensor([-1.4065,  1.5283])    1      1   \n",
      "tensor([-1.4745,  0.9512])    1      1   \n",
      "tensor([-1.1363,  0.5576])    1      1   \n",
      "tensor([-1.0628,  0.5574])    1      1   \n",
      "tensor([-1.3896,  1.1217])    1      1   \n",
      "tensor([-1.1430,  0.8908])    1      1   \n",
      "tensor([-0.8552,  0.8411])    1      1   \n",
      "tensor([-1.9725,  1.4728])    1      1   \n",
      "tensor([-0.5177,  0.4069])    1      1   \n",
      "\n",
      "92 out of 100 = 92.00% correct\n"
     ]
    }
   ],
   "source": [
    "rows = 100\n",
    "correct = 0\n",
    "print(f'{\"MODEL OUTPUT\":26} ARGMAX  Y_TEST')\n",
    "for i in range(rows):\n",
    "  print(f'{str(y_val[i]):26} {y_val[i].argmax():^7}{y_test[i]:^7}')\n",
    "  if y_val[i].argmax().item() == y_test[i]:\n",
    "    correct += 1\n",
    "print(f'\\n{correct} out of {rows} = {100*correct/rows:.2f}% correct')"
   ]
  },
  {
   "cell_type": "markdown",
   "metadata": {
    "colab_type": "text",
    "id": "BYrCEhBrlbKw"
   },
   "source": [
    "### SAVING THE MODEL"
   ]
  },
  {
   "cell_type": "code",
   "execution_count": 0,
   "metadata": {
    "colab": {},
    "colab_type": "code",
    "id": "tddQzCBRhByt"
   },
   "outputs": [],
   "source": [
    "if len(losses) == epochs:\n",
    "  torch.save(model.state_dict(), 'Bikeshare.pt')\n",
    "else:\n",
    "  print('Model is not trained.')"
   ]
  },
  {
   "cell_type": "code",
   "execution_count": 0,
   "metadata": {
    "colab": {},
    "colab_type": "code",
    "id": "KFBmycBkl-_V"
   },
   "outputs": [],
   "source": [
    "import torch\n",
    "import torch.nn as nn\n",
    "import numpy as np\n",
    "import pandas as pd\n",
    "\n",
    "def haversine_distance(df, lat1, long1, lat2, long2):\n",
    "    r = 6371\n",
    "    phi1 = np.radians(df[lat1])\n",
    "    phi2 = np.radians(df[lat2])\n",
    "    delta_phi = np.radians(df[lat2]-df[lat1])\n",
    "    delta_lambda = np.radians(df[long2]-df[long1])\n",
    "    a = np.sin(delta_phi/2)**2 + np.cos(phi1) * np.cos(phi2) * np.sin(delta_lambda/2)**2\n",
    "    c = 2 * np.arctan2(np.sqrt(a), np.sqrt(1-a))\n",
    "    return r * c\n",
    "\n",
    "class TabularModel(nn.Module):\n",
    "  def __init__(self, n_cont, out_sz, layers, p):\n",
    "\n",
    "    super().__init__()\n",
    "    self.emb_drop = nn.Dropout(p)\n",
    "    self.cont_norm = nn.BatchNorm1d(n_cont)\n",
    "    layerlist = []\n",
    "\n",
    "    for i in layers:\n",
    "      layerlist.append(nn.Linear(n_cont,i))\n",
    "      layerlist.append(nn.ReLU(inplace=True))\n",
    "      layerlist.append(nn.BatchNorm1d(i))\n",
    "      layerlist.append(nn.Dropout(p))\n",
    "      n_cont = i\n",
    "    layerlist.append(nn.Linear(layers[-1],out_sz))\n",
    "    self.layers = nn.Sequential(*layerlist)\n",
    "\n",
    "  def forward(self, x_cont):\n",
    "    x_cont = self.emb_drop(x_cont)\n",
    "    x_cont = self.cont_norm(x_cont)\n",
    "    x_cont = self.layers(x_cont)\n",
    "    return x_cont"
   ]
  },
  {
   "cell_type": "code",
   "execution_count": 0,
   "metadata": {
    "colab": {},
    "colab_type": "code",
    "id": "qwG6Y9G-mQhy"
   },
   "outputs": [],
   "source": [
    "new_model = TabularModel(6,2,[200,100,100,64], p = 0.4)"
   ]
  },
  {
   "cell_type": "code",
   "execution_count": 137,
   "metadata": {
    "colab": {
     "base_uri": "https://localhost:8080/",
     "height": 408
    },
    "colab_type": "code",
    "id": "itPmEJTfnQVV",
    "outputId": "9d557132-4244-4563-ebfb-e16a2a16d979"
   },
   "outputs": [
    {
     "data": {
      "text/plain": [
       "TabularModel(\n",
       "  (emb_drop): Dropout(p=0.4, inplace=False)\n",
       "  (cont_norm): BatchNorm1d(6, eps=1e-05, momentum=0.1, affine=True, track_running_stats=True)\n",
       "  (layers): Sequential(\n",
       "    (0): Linear(in_features=6, out_features=200, bias=True)\n",
       "    (1): ReLU(inplace=True)\n",
       "    (2): BatchNorm1d(200, eps=1e-05, momentum=0.1, affine=True, track_running_stats=True)\n",
       "    (3): Dropout(p=0.4, inplace=False)\n",
       "    (4): Linear(in_features=200, out_features=100, bias=True)\n",
       "    (5): ReLU(inplace=True)\n",
       "    (6): BatchNorm1d(100, eps=1e-05, momentum=0.1, affine=True, track_running_stats=True)\n",
       "    (7): Dropout(p=0.4, inplace=False)\n",
       "    (8): Linear(in_features=100, out_features=100, bias=True)\n",
       "    (9): ReLU(inplace=True)\n",
       "    (10): BatchNorm1d(100, eps=1e-05, momentum=0.1, affine=True, track_running_stats=True)\n",
       "    (11): Dropout(p=0.4, inplace=False)\n",
       "    (12): Linear(in_features=100, out_features=64, bias=True)\n",
       "    (13): ReLU(inplace=True)\n",
       "    (14): BatchNorm1d(64, eps=1e-05, momentum=0.1, affine=True, track_running_stats=True)\n",
       "    (15): Dropout(p=0.4, inplace=False)\n",
       "    (16): Linear(in_features=64, out_features=2, bias=True)\n",
       "  )\n",
       ")"
      ]
     },
     "execution_count": 137,
     "metadata": {
      "tags": []
     },
     "output_type": "execute_result"
    }
   ],
   "source": [
    "new_model.load_state_dict(torch.load('Bikeshare.pt'))\n",
    "new_model.eval()"
   ]
  },
  {
   "cell_type": "code",
   "execution_count": 0,
   "metadata": {
    "colab": {},
    "colab_type": "code",
    "id": "pEh4a22zn3YC"
   },
   "outputs": [],
   "source": [
    "def test_data(mdl): # pass in the name of the new model\n",
    "   # INPUT NEW DATA\n",
    "   trip_duration = float(input('What is the trip duration '))\n",
    "   plat = float(input('What is the pickup latitude?  '))\n",
    "   plong = float(input('What is the pickup longitude? '))\n",
    "   dlat = float(input('What is the dropoff latitude?  '))\n",
    "   dlong = float(input('What is the dropoff longitude? '))\n",
    "   \n",
    "   # PREPROCESS THE DATA\n",
    "   dfx_dict = {'trip_duration':trip_duration,'pickup_latitude':plat,'pickup_longitude':plong,'dropoff_latitude':dlat,\n",
    "        'dropoff_longitude':dlong}\n",
    "   dfx = pd.DataFrame(dfx_dict, index=[0])\n",
    "   dfx['trip_distance'] = haversine_distance(dfx,'pickup_latitude', 'pickup_longitude',\n",
    "                                       'dropoff_latitude', 'dropoff_longitude')\n",
    "   \n",
    "   cont_cols = ['trip_duration','pickup_latitude', 'pickup_longitude', 'dropoff_latitude',\n",
    "                'dropoff_longitude', 'trip_distance']\n",
    "   xconts = np.stack([dfx[col].values for col in cont_cols], 1)\n",
    "   xconts = torch.tensor(xconts, dtype=torch.float)\n",
    "   \n",
    "   # PASS NEW DATA THROUGH THE MODEL WITHOUT PERFORMING A BACKPROP\n",
    "   with torch.no_grad():\n",
    "       z = mdl(xconts).argmax().item()\n",
    "   print(f'\\nThe Predicted User Type is {z}')"
   ]
  },
  {
   "cell_type": "code",
   "execution_count": 142,
   "metadata": {
    "colab": {
     "base_uri": "https://localhost:8080/",
     "height": 136
    },
    "colab_type": "code",
    "id": "ouLMVm2ZrtOb",
    "outputId": "bded6108-1cde-40eb-aafa-cea74f501ada"
   },
   "outputs": [
    {
     "name": "stdout",
     "output_type": "stream",
     "text": [
      "What is the trip duration 1293\n",
      "What is the pickup latitude?  40.784727\n",
      "What is the pickup longitude? -73.969617\n",
      "What is the dropoff latitude?  40.765849\n",
      "What is the dropoff longitude? -73.986905\n",
      "\n",
      "The Predicted User Type is 1\n"
     ]
    }
   ],
   "source": [
    "test_data(new_model)"
   ]
  }
 ],
 "metadata": {
  "accelerator": "GPU",
  "colab": {
   "collapsed_sections": [],
   "name": "Bike_New.ipynb",
   "provenance": []
  },
  "kernelspec": {
   "display_name": "Python 3",
   "language": "python",
   "name": "python3"
  },
  "language_info": {
   "codemirror_mode": {
    "name": "ipython",
    "version": 3
   },
   "file_extension": ".py",
   "mimetype": "text/x-python",
   "name": "python",
   "nbconvert_exporter": "python",
   "pygments_lexer": "ipython3",
   "version": "3.7.3"
  }
 },
 "nbformat": 4,
 "nbformat_minor": 1
}
